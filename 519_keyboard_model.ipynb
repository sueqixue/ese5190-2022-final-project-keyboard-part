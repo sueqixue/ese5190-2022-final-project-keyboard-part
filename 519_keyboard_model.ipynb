{
  "nbformat": 4,
  "nbformat_minor": 0,
  "metadata": {
    "colab": {
      "provenance": [],
      "collapsed_sections": [
        "BQbwcVyuZBIN"
      ]
    },
    "kernelspec": {
      "name": "python3",
      "display_name": "Python 3"
    },
    "language_info": {
      "name": "python"
    },
    "accelerator": "GPU",
    "gpuClass": "standard"
  },
  "cells": [
    {
      "cell_type": "markdown",
      "source": [
        "# Model\n",
        "\n",
        "Tasks:\n",
        "* (Done) Upload the dataset if not exist\n",
        "* (Done) Create the training and validation dataset by reading the data in the txt files\n",
        "* (Done) Resize the flattened data to 3D array\n",
        "* (Done) Randomly shuffle data and labels from different files in the same order\n",
        "* (Done) Batch the data then the shape of the data is (2, 32, 32, 3)\n",
        "* (Somethings wrong need to be solved) Create an simple model for training\n",
        "* (In-progress) Normalize the data to better fit the model\n",
        "* (In-progress) Training the network"
      ],
      "metadata": {
        "id": "Njux9Jr-Y7ru"
      }
    },
    {
      "cell_type": "code",
      "source": [
        "import matplotlib.pyplot as plt\n",
        "import numpy as np\n",
        "import PIL\n",
        "import tensorflow as tf\n",
        "import os\n",
        "import pathlib\n",
        "import random\n",
        "\n",
        "from tensorflow import keras\n",
        "from tensorflow.keras import layers\n",
        "from tensorflow.keras.models import Sequential\n",
        "from os.path import exists\n",
        "from google.colab import files"
      ],
      "metadata": {
        "id": "Lc7Useh3ahLo"
      },
      "execution_count": 2,
      "outputs": []
    },
    {
      "cell_type": "code",
      "source": [
        "BATCH_SIZE = 2\n",
        "INPUT_HEIGHT = 32\n",
        "INPUT_WIDTH = 32\n",
        "INPUT_CHANNEL= 3\n",
        "NUM_CLASSES = 36"
      ],
      "metadata": {
        "id": "ljmiUtTZdmRG"
      },
      "execution_count": 3,
      "outputs": []
    },
    {
      "cell_type": "code",
      "source": [
        "# Upload the dataset if not exist\n",
        "if not os.path.exists('./keyboard_dataset.tar.gz'):\n",
        "    uploaded = files.upload()\n",
        "    # Unzip the dataset\n",
        "    !tar -xvf keyboard_dataset.tar.gz"
      ],
      "metadata": {
        "id": "uzERjAeoEoSK",
        "colab": {
          "base_uri": "https://localhost:8080/",
          "height": 1000
        },
        "outputId": "4004aa4a-9748-483f-9e41-33cc09970ac7"
      },
      "execution_count": 4,
      "outputs": [
        {
          "output_type": "display_data",
          "data": {
            "text/plain": [
              "<IPython.core.display.HTML object>"
            ],
            "text/html": [
              "\n",
              "     <input type=\"file\" id=\"files-83beb621-903a-46e1-b0b4-2a339e436362\" name=\"files[]\" multiple disabled\n",
              "        style=\"border:none\" />\n",
              "     <output id=\"result-83beb621-903a-46e1-b0b4-2a339e436362\">\n",
              "      Upload widget is only available when the cell has been executed in the\n",
              "      current browser session. Please rerun this cell to enable.\n",
              "      </output>\n",
              "      <script>// Copyright 2017 Google LLC\n",
              "//\n",
              "// Licensed under the Apache License, Version 2.0 (the \"License\");\n",
              "// you may not use this file except in compliance with the License.\n",
              "// You may obtain a copy of the License at\n",
              "//\n",
              "//      http://www.apache.org/licenses/LICENSE-2.0\n",
              "//\n",
              "// Unless required by applicable law or agreed to in writing, software\n",
              "// distributed under the License is distributed on an \"AS IS\" BASIS,\n",
              "// WITHOUT WARRANTIES OR CONDITIONS OF ANY KIND, either express or implied.\n",
              "// See the License for the specific language governing permissions and\n",
              "// limitations under the License.\n",
              "\n",
              "/**\n",
              " * @fileoverview Helpers for google.colab Python module.\n",
              " */\n",
              "(function(scope) {\n",
              "function span(text, styleAttributes = {}) {\n",
              "  const element = document.createElement('span');\n",
              "  element.textContent = text;\n",
              "  for (const key of Object.keys(styleAttributes)) {\n",
              "    element.style[key] = styleAttributes[key];\n",
              "  }\n",
              "  return element;\n",
              "}\n",
              "\n",
              "// Max number of bytes which will be uploaded at a time.\n",
              "const MAX_PAYLOAD_SIZE = 100 * 1024;\n",
              "\n",
              "function _uploadFiles(inputId, outputId) {\n",
              "  const steps = uploadFilesStep(inputId, outputId);\n",
              "  const outputElement = document.getElementById(outputId);\n",
              "  // Cache steps on the outputElement to make it available for the next call\n",
              "  // to uploadFilesContinue from Python.\n",
              "  outputElement.steps = steps;\n",
              "\n",
              "  return _uploadFilesContinue(outputId);\n",
              "}\n",
              "\n",
              "// This is roughly an async generator (not supported in the browser yet),\n",
              "// where there are multiple asynchronous steps and the Python side is going\n",
              "// to poll for completion of each step.\n",
              "// This uses a Promise to block the python side on completion of each step,\n",
              "// then passes the result of the previous step as the input to the next step.\n",
              "function _uploadFilesContinue(outputId) {\n",
              "  const outputElement = document.getElementById(outputId);\n",
              "  const steps = outputElement.steps;\n",
              "\n",
              "  const next = steps.next(outputElement.lastPromiseValue);\n",
              "  return Promise.resolve(next.value.promise).then((value) => {\n",
              "    // Cache the last promise value to make it available to the next\n",
              "    // step of the generator.\n",
              "    outputElement.lastPromiseValue = value;\n",
              "    return next.value.response;\n",
              "  });\n",
              "}\n",
              "\n",
              "/**\n",
              " * Generator function which is called between each async step of the upload\n",
              " * process.\n",
              " * @param {string} inputId Element ID of the input file picker element.\n",
              " * @param {string} outputId Element ID of the output display.\n",
              " * @return {!Iterable<!Object>} Iterable of next steps.\n",
              " */\n",
              "function* uploadFilesStep(inputId, outputId) {\n",
              "  const inputElement = document.getElementById(inputId);\n",
              "  inputElement.disabled = false;\n",
              "\n",
              "  const outputElement = document.getElementById(outputId);\n",
              "  outputElement.innerHTML = '';\n",
              "\n",
              "  const pickedPromise = new Promise((resolve) => {\n",
              "    inputElement.addEventListener('change', (e) => {\n",
              "      resolve(e.target.files);\n",
              "    });\n",
              "  });\n",
              "\n",
              "  const cancel = document.createElement('button');\n",
              "  inputElement.parentElement.appendChild(cancel);\n",
              "  cancel.textContent = 'Cancel upload';\n",
              "  const cancelPromise = new Promise((resolve) => {\n",
              "    cancel.onclick = () => {\n",
              "      resolve(null);\n",
              "    };\n",
              "  });\n",
              "\n",
              "  // Wait for the user to pick the files.\n",
              "  const files = yield {\n",
              "    promise: Promise.race([pickedPromise, cancelPromise]),\n",
              "    response: {\n",
              "      action: 'starting',\n",
              "    }\n",
              "  };\n",
              "\n",
              "  cancel.remove();\n",
              "\n",
              "  // Disable the input element since further picks are not allowed.\n",
              "  inputElement.disabled = true;\n",
              "\n",
              "  if (!files) {\n",
              "    return {\n",
              "      response: {\n",
              "        action: 'complete',\n",
              "      }\n",
              "    };\n",
              "  }\n",
              "\n",
              "  for (const file of files) {\n",
              "    const li = document.createElement('li');\n",
              "    li.append(span(file.name, {fontWeight: 'bold'}));\n",
              "    li.append(span(\n",
              "        `(${file.type || 'n/a'}) - ${file.size} bytes, ` +\n",
              "        `last modified: ${\n",
              "            file.lastModifiedDate ? file.lastModifiedDate.toLocaleDateString() :\n",
              "                                    'n/a'} - `));\n",
              "    const percent = span('0% done');\n",
              "    li.appendChild(percent);\n",
              "\n",
              "    outputElement.appendChild(li);\n",
              "\n",
              "    const fileDataPromise = new Promise((resolve) => {\n",
              "      const reader = new FileReader();\n",
              "      reader.onload = (e) => {\n",
              "        resolve(e.target.result);\n",
              "      };\n",
              "      reader.readAsArrayBuffer(file);\n",
              "    });\n",
              "    // Wait for the data to be ready.\n",
              "    let fileData = yield {\n",
              "      promise: fileDataPromise,\n",
              "      response: {\n",
              "        action: 'continue',\n",
              "      }\n",
              "    };\n",
              "\n",
              "    // Use a chunked sending to avoid message size limits. See b/62115660.\n",
              "    let position = 0;\n",
              "    do {\n",
              "      const length = Math.min(fileData.byteLength - position, MAX_PAYLOAD_SIZE);\n",
              "      const chunk = new Uint8Array(fileData, position, length);\n",
              "      position += length;\n",
              "\n",
              "      const base64 = btoa(String.fromCharCode.apply(null, chunk));\n",
              "      yield {\n",
              "        response: {\n",
              "          action: 'append',\n",
              "          file: file.name,\n",
              "          data: base64,\n",
              "        },\n",
              "      };\n",
              "\n",
              "      let percentDone = fileData.byteLength === 0 ?\n",
              "          100 :\n",
              "          Math.round((position / fileData.byteLength) * 100);\n",
              "      percent.textContent = `${percentDone}% done`;\n",
              "\n",
              "    } while (position < fileData.byteLength);\n",
              "  }\n",
              "\n",
              "  // All done.\n",
              "  yield {\n",
              "    response: {\n",
              "      action: 'complete',\n",
              "    }\n",
              "  };\n",
              "}\n",
              "\n",
              "scope.google = scope.google || {};\n",
              "scope.google.colab = scope.google.colab || {};\n",
              "scope.google.colab._files = {\n",
              "  _uploadFiles,\n",
              "  _uploadFilesContinue,\n",
              "};\n",
              "})(self);\n",
              "</script> "
            ]
          },
          "metadata": {}
        },
        {
          "output_type": "stream",
          "name": "stdout",
          "text": [
            "Saving keyboard_dataset.tar.gz to keyboard_dataset.tar.gz\n",
            "Users/xue_q/Downloads/keyboard_dataset/\n",
            "Users/xue_q/Downloads/keyboard_dataset/test/\n",
            "Users/xue_q/Downloads/keyboard_dataset/train/\n",
            "Users/xue_q/Downloads/keyboard_dataset/train/0/\n",
            "Users/xue_q/Downloads/keyboard_dataset/train/1/\n",
            "Users/xue_q/Downloads/keyboard_dataset/train/2/\n",
            "Users/xue_q/Downloads/keyboard_dataset/train/3/\n",
            "Users/xue_q/Downloads/keyboard_dataset/train/4/\n",
            "Users/xue_q/Downloads/keyboard_dataset/train/5/\n",
            "Users/xue_q/Downloads/keyboard_dataset/train/6/\n",
            "Users/xue_q/Downloads/keyboard_dataset/train/7/\n",
            "Users/xue_q/Downloads/keyboard_dataset/train/8/\n",
            "Users/xue_q/Downloads/keyboard_dataset/train/9/\n",
            "Users/xue_q/Downloads/keyboard_dataset/train/A/\n",
            "Users/xue_q/Downloads/keyboard_dataset/train/B/\n",
            "Users/xue_q/Downloads/keyboard_dataset/train/C/\n",
            "Users/xue_q/Downloads/keyboard_dataset/train/D/\n",
            "Users/xue_q/Downloads/keyboard_dataset/train/E/\n",
            "Users/xue_q/Downloads/keyboard_dataset/train/F/\n",
            "Users/xue_q/Downloads/keyboard_dataset/train/G/\n",
            "Users/xue_q/Downloads/keyboard_dataset/train/H/\n",
            "Users/xue_q/Downloads/keyboard_dataset/train/I/\n",
            "Users/xue_q/Downloads/keyboard_dataset/train/J/\n",
            "Users/xue_q/Downloads/keyboard_dataset/train/K/\n",
            "Users/xue_q/Downloads/keyboard_dataset/train/L/\n",
            "Users/xue_q/Downloads/keyboard_dataset/train/M/\n",
            "Users/xue_q/Downloads/keyboard_dataset/train/N/\n",
            "Users/xue_q/Downloads/keyboard_dataset/train/O/\n",
            "Users/xue_q/Downloads/keyboard_dataset/train/P/\n",
            "Users/xue_q/Downloads/keyboard_dataset/train/Q/\n",
            "Users/xue_q/Downloads/keyboard_dataset/train/R/\n",
            "Users/xue_q/Downloads/keyboard_dataset/train/S/\n",
            "Users/xue_q/Downloads/keyboard_dataset/train/T/\n",
            "Users/xue_q/Downloads/keyboard_dataset/train/U/\n",
            "Users/xue_q/Downloads/keyboard_dataset/train/V/\n",
            "Users/xue_q/Downloads/keyboard_dataset/train/W/\n",
            "Users/xue_q/Downloads/keyboard_dataset/train/X/\n",
            "Users/xue_q/Downloads/keyboard_dataset/train/Y/\n",
            "Users/xue_q/Downloads/keyboard_dataset/train/Z/\n",
            "Users/xue_q/Downloads/keyboard_dataset/train/Z/12601.txt\n",
            "Users/xue_q/Downloads/keyboard_dataset/train/Z/12602.txt\n",
            "Users/xue_q/Downloads/keyboard_dataset/train/Z/12603.txt\n",
            "Users/xue_q/Downloads/keyboard_dataset/train/Z/12604.txt\n",
            "Users/xue_q/Downloads/keyboard_dataset/train/Y/12501.txt\n",
            "Users/xue_q/Downloads/keyboard_dataset/train/Y/12502.txt\n",
            "Users/xue_q/Downloads/keyboard_dataset/train/Y/12503.txt\n",
            "Users/xue_q/Downloads/keyboard_dataset/train/Y/12504.txt\n",
            "Users/xue_q/Downloads/keyboard_dataset/train/X/12401.txt\n",
            "Users/xue_q/Downloads/keyboard_dataset/train/X/12402.txt\n",
            "Users/xue_q/Downloads/keyboard_dataset/train/X/12403.txt\n",
            "Users/xue_q/Downloads/keyboard_dataset/train/X/12404.txt\n",
            "Users/xue_q/Downloads/keyboard_dataset/train/W/12301.txt\n",
            "Users/xue_q/Downloads/keyboard_dataset/train/W/12302.txt\n",
            "Users/xue_q/Downloads/keyboard_dataset/train/W/12303.txt\n",
            "Users/xue_q/Downloads/keyboard_dataset/train/W/12304.txt\n",
            "Users/xue_q/Downloads/keyboard_dataset/train/V/12201.txt\n",
            "Users/xue_q/Downloads/keyboard_dataset/train/V/12202.txt\n",
            "Users/xue_q/Downloads/keyboard_dataset/train/V/12303.txt\n",
            "Users/xue_q/Downloads/keyboard_dataset/train/V/12304.txt\n",
            "Users/xue_q/Downloads/keyboard_dataset/train/U/12101.txt\n",
            "Users/xue_q/Downloads/keyboard_dataset/train/U/12102.txt\n",
            "Users/xue_q/Downloads/keyboard_dataset/train/U/12103.txt\n",
            "Users/xue_q/Downloads/keyboard_dataset/train/U/12104.txt\n",
            "Users/xue_q/Downloads/keyboard_dataset/train/T/12001.txt\n",
            "Users/xue_q/Downloads/keyboard_dataset/train/T/12002.txt\n",
            "Users/xue_q/Downloads/keyboard_dataset/train/T/12003.txt\n",
            "Users/xue_q/Downloads/keyboard_dataset/train/T/12004.txt\n",
            "Users/xue_q/Downloads/keyboard_dataset/train/S/11901.txt\n",
            "Users/xue_q/Downloads/keyboard_dataset/train/S/11902.txt\n",
            "Users/xue_q/Downloads/keyboard_dataset/train/S/11903.txt\n",
            "Users/xue_q/Downloads/keyboard_dataset/train/S/11904.txt\n",
            "Users/xue_q/Downloads/keyboard_dataset/train/R/11801.txt\n",
            "Users/xue_q/Downloads/keyboard_dataset/train/R/11802.txt\n",
            "Users/xue_q/Downloads/keyboard_dataset/train/R/11803.txt\n",
            "Users/xue_q/Downloads/keyboard_dataset/train/R/11804.txt\n",
            "Users/xue_q/Downloads/keyboard_dataset/train/Q/11701.txt\n",
            "Users/xue_q/Downloads/keyboard_dataset/train/Q/11702.txt\n",
            "Users/xue_q/Downloads/keyboard_dataset/train/Q/11703.txt\n",
            "Users/xue_q/Downloads/keyboard_dataset/train/Q/11704.txt\n",
            "Users/xue_q/Downloads/keyboard_dataset/train/P/11601.txt\n",
            "Users/xue_q/Downloads/keyboard_dataset/train/P/11602.txt\n",
            "Users/xue_q/Downloads/keyboard_dataset/train/P/11603.txt\n",
            "Users/xue_q/Downloads/keyboard_dataset/train/P/11604.txt\n",
            "Users/xue_q/Downloads/keyboard_dataset/train/O/11501.txt\n",
            "Users/xue_q/Downloads/keyboard_dataset/train/O/11502.txt\n",
            "Users/xue_q/Downloads/keyboard_dataset/train/O/11503.txt\n",
            "Users/xue_q/Downloads/keyboard_dataset/train/O/11504.txt\n",
            "Users/xue_q/Downloads/keyboard_dataset/train/N/11401.txt\n",
            "Users/xue_q/Downloads/keyboard_dataset/train/N/11402.txt\n",
            "Users/xue_q/Downloads/keyboard_dataset/train/N/11403.txt\n",
            "Users/xue_q/Downloads/keyboard_dataset/train/N/11404.txt\n",
            "Users/xue_q/Downloads/keyboard_dataset/train/M/11301.txt\n",
            "Users/xue_q/Downloads/keyboard_dataset/train/M/11302.txt\n",
            "Users/xue_q/Downloads/keyboard_dataset/train/M/11303.txt\n",
            "Users/xue_q/Downloads/keyboard_dataset/train/M/11304.txt\n",
            "Users/xue_q/Downloads/keyboard_dataset/train/L/11201.txt\n",
            "Users/xue_q/Downloads/keyboard_dataset/train/L/11202.txt\n",
            "Users/xue_q/Downloads/keyboard_dataset/train/L/11203.txt\n",
            "Users/xue_q/Downloads/keyboard_dataset/train/L/11204.txt\n",
            "Users/xue_q/Downloads/keyboard_dataset/train/K/11101.txt\n",
            "Users/xue_q/Downloads/keyboard_dataset/train/K/11102.txt\n",
            "Users/xue_q/Downloads/keyboard_dataset/train/K/11103.txt\n",
            "Users/xue_q/Downloads/keyboard_dataset/train/K/11104.txt\n",
            "Users/xue_q/Downloads/keyboard_dataset/train/J/11001.txt\n",
            "Users/xue_q/Downloads/keyboard_dataset/train/J/11002.txt\n",
            "Users/xue_q/Downloads/keyboard_dataset/train/J/11003.txt\n",
            "Users/xue_q/Downloads/keyboard_dataset/train/J/11004.txt\n",
            "Users/xue_q/Downloads/keyboard_dataset/train/I/1901.txt\n",
            "Users/xue_q/Downloads/keyboard_dataset/train/I/1902.txt\n",
            "Users/xue_q/Downloads/keyboard_dataset/train/I/1903.txt\n",
            "Users/xue_q/Downloads/keyboard_dataset/train/I/1904.txt\n",
            "Users/xue_q/Downloads/keyboard_dataset/train/H/1801.txt\n",
            "Users/xue_q/Downloads/keyboard_dataset/train/H/1802.txt\n",
            "Users/xue_q/Downloads/keyboard_dataset/train/H/1803.txt\n",
            "Users/xue_q/Downloads/keyboard_dataset/train/H/1804.txt\n",
            "Users/xue_q/Downloads/keyboard_dataset/train/G/1701.txt\n",
            "Users/xue_q/Downloads/keyboard_dataset/train/G/1702.txt\n",
            "Users/xue_q/Downloads/keyboard_dataset/train/G/1703.txt\n",
            "Users/xue_q/Downloads/keyboard_dataset/train/G/1704.txt\n",
            "Users/xue_q/Downloads/keyboard_dataset/train/F/1601.txt\n",
            "Users/xue_q/Downloads/keyboard_dataset/train/F/1602.txt\n",
            "Users/xue_q/Downloads/keyboard_dataset/train/F/1603.txt\n",
            "Users/xue_q/Downloads/keyboard_dataset/train/F/1604.txt\n",
            "Users/xue_q/Downloads/keyboard_dataset/train/E/1501.txt\n",
            "Users/xue_q/Downloads/keyboard_dataset/train/E/1502.txt\n",
            "Users/xue_q/Downloads/keyboard_dataset/train/E/1503.txt\n",
            "Users/xue_q/Downloads/keyboard_dataset/train/E/1504.txt\n",
            "Users/xue_q/Downloads/keyboard_dataset/train/D/1401.txt\n",
            "Users/xue_q/Downloads/keyboard_dataset/train/D/1402.txt\n",
            "Users/xue_q/Downloads/keyboard_dataset/train/D/1403.txt\n",
            "Users/xue_q/Downloads/keyboard_dataset/train/D/1404.txt\n",
            "Users/xue_q/Downloads/keyboard_dataset/train/C/1301.txt\n",
            "Users/xue_q/Downloads/keyboard_dataset/train/C/1302.txt\n",
            "Users/xue_q/Downloads/keyboard_dataset/train/C/1303.txt\n",
            "Users/xue_q/Downloads/keyboard_dataset/train/C/1304.txt\n",
            "Users/xue_q/Downloads/keyboard_dataset/train/B/1201.txt\n",
            "Users/xue_q/Downloads/keyboard_dataset/train/B/1202.txt\n",
            "Users/xue_q/Downloads/keyboard_dataset/train/B/1203.txt\n",
            "Users/xue_q/Downloads/keyboard_dataset/train/B/1204.txt\n",
            "Users/xue_q/Downloads/keyboard_dataset/train/A/1101.txt\n",
            "Users/xue_q/Downloads/keyboard_dataset/train/A/1102.txt\n",
            "Users/xue_q/Downloads/keyboard_dataset/train/A/1103.txt\n",
            "Users/xue_q/Downloads/keyboard_dataset/train/A/1104.txt\n",
            "Users/xue_q/Downloads/keyboard_dataset/train/9/0901.txt\n",
            "Users/xue_q/Downloads/keyboard_dataset/train/9/0902.txt\n",
            "Users/xue_q/Downloads/keyboard_dataset/train/9/0903.txt\n",
            "Users/xue_q/Downloads/keyboard_dataset/train/9/0904.txt\n",
            "Users/xue_q/Downloads/keyboard_dataset/train/8/0801.txt\n",
            "Users/xue_q/Downloads/keyboard_dataset/train/8/0802.txt\n",
            "Users/xue_q/Downloads/keyboard_dataset/train/8/0803.txt\n",
            "Users/xue_q/Downloads/keyboard_dataset/train/8/0804.txt\n",
            "Users/xue_q/Downloads/keyboard_dataset/train/7/0701.txt\n",
            "Users/xue_q/Downloads/keyboard_dataset/train/7/0702.txt\n",
            "Users/xue_q/Downloads/keyboard_dataset/train/7/0703.txt\n",
            "Users/xue_q/Downloads/keyboard_dataset/train/7/0704.txt\n",
            "Users/xue_q/Downloads/keyboard_dataset/train/6/0601.txt\n",
            "Users/xue_q/Downloads/keyboard_dataset/train/6/0602.txt\n",
            "Users/xue_q/Downloads/keyboard_dataset/train/6/0603.txt\n",
            "Users/xue_q/Downloads/keyboard_dataset/train/6/0604.txt\n",
            "Users/xue_q/Downloads/keyboard_dataset/train/5/0501.txt\n",
            "Users/xue_q/Downloads/keyboard_dataset/train/5/0502.txt\n",
            "Users/xue_q/Downloads/keyboard_dataset/train/5/0503.txt\n",
            "Users/xue_q/Downloads/keyboard_dataset/train/5/0504.txt\n",
            "Users/xue_q/Downloads/keyboard_dataset/train/4/0401.txt\n",
            "Users/xue_q/Downloads/keyboard_dataset/train/4/0402.txt\n",
            "Users/xue_q/Downloads/keyboard_dataset/train/4/0403.txt\n",
            "Users/xue_q/Downloads/keyboard_dataset/train/4/0404.txt\n",
            "Users/xue_q/Downloads/keyboard_dataset/train/3/0301.txt\n",
            "Users/xue_q/Downloads/keyboard_dataset/train/3/0302.txt\n",
            "Users/xue_q/Downloads/keyboard_dataset/train/3/0303.txt\n",
            "Users/xue_q/Downloads/keyboard_dataset/train/3/0304.txt\n",
            "Users/xue_q/Downloads/keyboard_dataset/train/2/0201.txt\n",
            "Users/xue_q/Downloads/keyboard_dataset/train/2/0202.txt\n",
            "Users/xue_q/Downloads/keyboard_dataset/train/2/0203.txt\n",
            "Users/xue_q/Downloads/keyboard_dataset/train/2/0204.txt\n",
            "Users/xue_q/Downloads/keyboard_dataset/train/1/0101.txt\n",
            "Users/xue_q/Downloads/keyboard_dataset/train/1/0102.txt\n",
            "Users/xue_q/Downloads/keyboard_dataset/train/1/0103.txt\n",
            "Users/xue_q/Downloads/keyboard_dataset/train/1/0104.txt\n",
            "Users/xue_q/Downloads/keyboard_dataset/train/0/0001.txt\n",
            "Users/xue_q/Downloads/keyboard_dataset/train/0/0002.txt\n",
            "Users/xue_q/Downloads/keyboard_dataset/train/0/0003.txt\n",
            "Users/xue_q/Downloads/keyboard_dataset/train/0/0004.txt\n",
            "Users/xue_q/Downloads/keyboard_dataset/test/0/\n",
            "Users/xue_q/Downloads/keyboard_dataset/test/1/\n",
            "Users/xue_q/Downloads/keyboard_dataset/test/2/\n",
            "Users/xue_q/Downloads/keyboard_dataset/test/3/\n",
            "Users/xue_q/Downloads/keyboard_dataset/test/4/\n",
            "Users/xue_q/Downloads/keyboard_dataset/test/5/\n",
            "Users/xue_q/Downloads/keyboard_dataset/test/6/\n",
            "Users/xue_q/Downloads/keyboard_dataset/test/7/\n",
            "Users/xue_q/Downloads/keyboard_dataset/test/8/\n",
            "Users/xue_q/Downloads/keyboard_dataset/test/9/\n",
            "Users/xue_q/Downloads/keyboard_dataset/test/A/\n",
            "Users/xue_q/Downloads/keyboard_dataset/test/B/\n",
            "Users/xue_q/Downloads/keyboard_dataset/test/C/\n",
            "Users/xue_q/Downloads/keyboard_dataset/test/D/\n",
            "Users/xue_q/Downloads/keyboard_dataset/test/E/\n",
            "Users/xue_q/Downloads/keyboard_dataset/test/F/\n",
            "Users/xue_q/Downloads/keyboard_dataset/test/G/\n",
            "Users/xue_q/Downloads/keyboard_dataset/test/H/\n",
            "Users/xue_q/Downloads/keyboard_dataset/test/I/\n",
            "Users/xue_q/Downloads/keyboard_dataset/test/J/\n",
            "Users/xue_q/Downloads/keyboard_dataset/test/K/\n",
            "Users/xue_q/Downloads/keyboard_dataset/test/L/\n",
            "Users/xue_q/Downloads/keyboard_dataset/test/M/\n",
            "Users/xue_q/Downloads/keyboard_dataset/test/N/\n",
            "Users/xue_q/Downloads/keyboard_dataset/test/O/\n",
            "Users/xue_q/Downloads/keyboard_dataset/test/P/\n",
            "Users/xue_q/Downloads/keyboard_dataset/test/Q/\n",
            "Users/xue_q/Downloads/keyboard_dataset/test/R/\n",
            "Users/xue_q/Downloads/keyboard_dataset/test/S/\n",
            "Users/xue_q/Downloads/keyboard_dataset/test/T/\n",
            "Users/xue_q/Downloads/keyboard_dataset/test/U/\n",
            "Users/xue_q/Downloads/keyboard_dataset/test/V/\n",
            "Users/xue_q/Downloads/keyboard_dataset/test/W/\n",
            "Users/xue_q/Downloads/keyboard_dataset/test/X/\n",
            "Users/xue_q/Downloads/keyboard_dataset/test/Y/\n",
            "Users/xue_q/Downloads/keyboard_dataset/test/Z/\n",
            "Users/xue_q/Downloads/keyboard_dataset/test/Z/12604.txt\n",
            "Users/xue_q/Downloads/keyboard_dataset/test/Y/12504.txt\n",
            "Users/xue_q/Downloads/keyboard_dataset/test/X/12404.txt\n",
            "Users/xue_q/Downloads/keyboard_dataset/test/W/12304.txt\n",
            "Users/xue_q/Downloads/keyboard_dataset/test/V/12304.txt\n",
            "Users/xue_q/Downloads/keyboard_dataset/test/U/12104.txt\n",
            "Users/xue_q/Downloads/keyboard_dataset/test/T/12004.txt\n",
            "Users/xue_q/Downloads/keyboard_dataset/test/S/11904.txt\n",
            "Users/xue_q/Downloads/keyboard_dataset/test/R/11804.txt\n",
            "Users/xue_q/Downloads/keyboard_dataset/test/Q/11704.txt\n",
            "Users/xue_q/Downloads/keyboard_dataset/test/P/11604.txt\n",
            "Users/xue_q/Downloads/keyboard_dataset/test/O/11504.txt\n",
            "Users/xue_q/Downloads/keyboard_dataset/test/N/11404.txt\n",
            "Users/xue_q/Downloads/keyboard_dataset/test/M/11304.txt\n",
            "Users/xue_q/Downloads/keyboard_dataset/test/L/11204.txt\n",
            "Users/xue_q/Downloads/keyboard_dataset/test/K/11104.txt\n",
            "Users/xue_q/Downloads/keyboard_dataset/test/J/11004.txt\n",
            "Users/xue_q/Downloads/keyboard_dataset/test/I/1904.txt\n",
            "Users/xue_q/Downloads/keyboard_dataset/test/H/1804.txt\n",
            "Users/xue_q/Downloads/keyboard_dataset/test/G/1704.txt\n",
            "Users/xue_q/Downloads/keyboard_dataset/test/F/1604.txt\n",
            "Users/xue_q/Downloads/keyboard_dataset/test/E/1504.txt\n",
            "Users/xue_q/Downloads/keyboard_dataset/test/D/1404.txt\n",
            "Users/xue_q/Downloads/keyboard_dataset/test/C/1304.txt\n",
            "Users/xue_q/Downloads/keyboard_dataset/test/B/1204.txt\n",
            "Users/xue_q/Downloads/keyboard_dataset/test/A/1104.txt\n",
            "Users/xue_q/Downloads/keyboard_dataset/test/9/0904.txt\n",
            "Users/xue_q/Downloads/keyboard_dataset/test/8/0804.txt\n",
            "Users/xue_q/Downloads/keyboard_dataset/test/7/0704.txt\n",
            "Users/xue_q/Downloads/keyboard_dataset/test/6/0604.txt\n",
            "Users/xue_q/Downloads/keyboard_dataset/test/5/0504.txt\n",
            "Users/xue_q/Downloads/keyboard_dataset/test/4/0404.txt\n",
            "Users/xue_q/Downloads/keyboard_dataset/test/3/0304.txt\n",
            "Users/xue_q/Downloads/keyboard_dataset/test/2/0204.txt\n",
            "Users/xue_q/Downloads/keyboard_dataset/test/1/0104.txt\n",
            "Users/xue_q/Downloads/keyboard_dataset/test/0/0004.txt\n"
          ]
        }
      ]
    },
    {
      "cell_type": "code",
      "source": [
        "train_dir = './Users/xue_q/Downloads/keyboard_dataset/train'\n",
        "train_dir = pathlib.Path(train_dir)\n",
        "val_dir = './Users/xue_q/Downloads/keyboard_dataset/test'\n",
        "val_dir = pathlib.Path(val_dir)\n",
        "\n",
        "train_input_count = len(list(train_dir.glob('*/*.txt')))\n",
        "val_input_count = len(list(val_dir.glob('*/*.txt')))\n",
        "print(f'{train_input_count}, {val_input_count}')"
      ],
      "metadata": {
        "id": "twwNfqZbajPt",
        "colab": {
          "base_uri": "https://localhost:8080/"
        },
        "outputId": "e581df18-7052-45bd-f127-b68c6c696c7c"
      },
      "execution_count": 5,
      "outputs": [
        {
          "output_type": "stream",
          "name": "stdout",
          "text": [
            "144, 36\n"
          ]
        }
      ]
    },
    {
      "cell_type": "code",
      "source": [
        "class_names = np.array([item.name for item in train_dir.glob('*')])\n",
        "num_classes = len(class_names)\n",
        "if num_classes != NUM_CLASSES:\n",
        "  print(\"Warning: Wrong classes number!\")\n",
        "else:\n",
        "  print(\"Good!\")\n",
        "  \n",
        "print(class_names)\n",
        "print(num_classes)"
      ],
      "metadata": {
        "colab": {
          "base_uri": "https://localhost:8080/"
        },
        "id": "BSJreMoqCfdT",
        "outputId": "35f71f63-ac8d-4b8e-e0b2-cea8d26c658f"
      },
      "execution_count": 6,
      "outputs": [
        {
          "output_type": "stream",
          "name": "stdout",
          "text": [
            "Good!\n",
            "['Q' '7' 'O' 'U' 'W' 'C' 'Z' '1' 'N' 'X' '9' 'M' 'A' 'R' 'L' 'E' '8' 'F'\n",
            " 'P' 'B' 'J' 'S' 'Y' '4' 'V' 'I' '2' '0' 'H' '5' '6' 'D' '3' 'K' 'G' 'T']\n",
            "36\n"
          ]
        }
      ]
    },
    {
      "cell_type": "code",
      "source": [
        "def resize_file_data(data):\n",
        "  data_flattened = data.split(', ')\n",
        "  for i in range(0, len(data_flattened)):\n",
        "    data_flattened[i] = int(data_flattened[i])\n",
        "  # countOfData = len(data_flattened)\n",
        "  # print(countOfData)\n",
        "  data = np.reshape(data_flattened, (INPUT_HEIGHT, INPUT_WIDTH, INPUT_CHANNEL))\n",
        "  # print(data)\n",
        "  return data"
      ],
      "metadata": {
        "id": "xTEwt_jyS5iN"
      },
      "execution_count": 7,
      "outputs": []
    },
    {
      "cell_type": "code",
      "source": [
        "def file_dataset_from_directory(data_path, data_type):\n",
        "  # Get train, valid and test data from files\n",
        "  data = []\n",
        "  label = []\n",
        "  my_dataset_data = []\n",
        "  my_dataset_label = []\n",
        "\n",
        "  # Read the txt files and load the data\n",
        "  for name in class_names:\n",
        "    # print(name)\n",
        "    data_dir = data_path / pathlib.Path(name)\n",
        "    for filename in os.listdir(data_dir):\n",
        "      file_dir = os.path.join(data_dir, filename)\n",
        "      # checking if it is a file\n",
        "      if os.path.isfile(file_dir):\n",
        "          # print(file_dir)\n",
        "          with open(file_dir, \"r\") as f:\n",
        "              content = f.read()\n",
        "              # print(file_dir)\n",
        "              content = resize_file_data(content)\n",
        "              data.append(content)\n",
        "              # data and label type should be the same\n",
        "              label.append(int(ord(name)))\n",
        "              # print(data)\n",
        "\n",
        "  # Shuffle the data and label in the same order\n",
        "  idx = np.random.permutation(len(data))\n",
        "  data = np.array(data)\n",
        "  label = np.array(label)\n",
        "  data_shuffled, label_shuffled = data[idx], label[idx]\n",
        "  length = len(label_shuffled)\n",
        "  # print(label)\n",
        "  # print(label_shuffled)\n",
        "\n",
        "  # Batch the data by BATCH_SIZE to format 4D tensor as input data\n",
        "  dataset_len = int(length / BATCH_SIZE)\n",
        "  # print(f'dataset_len = {dataset_len}')\n",
        "  for count in range(dataset_len):\n",
        "    this_data_batch = [None] * BATCH_SIZE\n",
        "    this_label_batch = [None] * BATCH_SIZE\n",
        "    for data_num in range(BATCH_SIZE):\n",
        "      # print(f\"data_num = {data_num}\")\n",
        "      data_index = count * BATCH_SIZE + data_num\n",
        "      # print(f'data_index = {data_index}')\n",
        "      this_data_batch[data_num] = data_shuffled[data_index]\n",
        "      this_label_batch[data_num] = label_shuffled[data_index]\n",
        "\n",
        "    this_data_batch = tf.convert_to_tensor(this_data_batch)\n",
        "    this_data_batch = tf.reshape(this_data_batch, [BATCH_SIZE, INPUT_HEIGHT, INPUT_WIDTH, INPUT_CHANNEL])\n",
        "    my_dataset_data.append(this_data_batch)\n",
        "\n",
        "    this_label_batch = tf.convert_to_tensor(this_label_batch)\n",
        "    this_label_batch = tf.reshape(this_label_batch, [BATCH_SIZE])\n",
        "    my_dataset_label.append(this_label_batch)\n",
        "\n",
        "  print(data_type + \"_total_data_length: \" + str(length)) \n",
        "  return my_dataset_data, my_dataset_label, length"
      ],
      "metadata": {
        "id": "Qe5Av2ZQDnRZ"
      },
      "execution_count": 8,
      "outputs": []
    },
    {
      "cell_type": "code",
      "source": [
        "# Define a simple sequential model\n",
        "def create_model():\n",
        "  model = tf.keras.Sequential([\n",
        "    layers.Conv2D(16, 3, padding='same', activation='relu', input_shape=(INPUT_HEIGHT, INPUT_WIDTH, INPUT_CHANNEL)),\n",
        "    layers.MaxPooling2D(),\n",
        "    layers.Dropout(0.1),\n",
        "    layers.Conv2D(32, 3, padding='same', activation='relu'),\n",
        "    layers.MaxPooling2D(),\n",
        "    layers.Dropout(0.1),\n",
        "    layers.Flatten(),\n",
        "    layers.Dense(128, activation='relu'),\n",
        "    layers.Dropout(0.1),\n",
        "    layers.Dense(num_classes, activation=\"softmax\")\n",
        "  ])\n",
        "\n",
        "  model.compile(optimizer='adam',\n",
        "                loss=tf.keras.losses.SparseCategoricalCrossentropy(from_logits=True),\n",
        "                metrics=[tf.keras.metrics.SparseCategoricalAccuracy()])\n",
        "\n",
        "  return model"
      ],
      "metadata": {
        "id": "WvbYx5v-fAcl"
      },
      "execution_count": 9,
      "outputs": []
    },
    {
      "cell_type": "code",
      "source": [
        "# Load the train and validation dataset\n",
        "train_data, train_labels, train_len = file_dataset_from_directory(train_dir, \"train\")\n",
        "val_data, val_labels, val_len = file_dataset_from_directory(val_dir, \"validation\")"
      ],
      "metadata": {
        "id": "gDfCSTSNQIsT",
        "colab": {
          "base_uri": "https://localhost:8080/"
        },
        "outputId": "a5bceb2f-7360-40b1-a5bb-050425e2825c"
      },
      "execution_count": 10,
      "outputs": [
        {
          "output_type": "stream",
          "name": "stdout",
          "text": [
            "train_total_data_length: 144\n",
            "validation_total_data_length: 36\n"
          ]
        }
      ]
    },
    {
      "cell_type": "code",
      "source": [
        "train_ds = tf.data.Dataset.from_tensor_slices((train_data, train_labels))\n",
        "val_ds = tf.data.Dataset.from_tensor_slices((val_data, val_labels))"
      ],
      "metadata": {
        "id": "sI3ImJQCX4jU"
      },
      "execution_count": 11,
      "outputs": []
    },
    {
      "cell_type": "code",
      "source": [
        "# Create a basic model instance\n",
        "model = create_model()\n",
        "model.summary()"
      ],
      "metadata": {
        "id": "TETpLGpDZbE0",
        "colab": {
          "base_uri": "https://localhost:8080/"
        },
        "outputId": "e4a96435-9ff7-4400-d6cc-2bc6db37fc1b"
      },
      "execution_count": 12,
      "outputs": [
        {
          "output_type": "stream",
          "name": "stdout",
          "text": [
            "Model: \"sequential\"\n",
            "_________________________________________________________________\n",
            " Layer (type)                Output Shape              Param #   \n",
            "=================================================================\n",
            " conv2d (Conv2D)             (None, 32, 32, 16)        448       \n",
            "                                                                 \n",
            " max_pooling2d (MaxPooling2D  (None, 16, 16, 16)       0         \n",
            " )                                                               \n",
            "                                                                 \n",
            " dropout (Dropout)           (None, 16, 16, 16)        0         \n",
            "                                                                 \n",
            " conv2d_1 (Conv2D)           (None, 16, 16, 32)        4640      \n",
            "                                                                 \n",
            " max_pooling2d_1 (MaxPooling  (None, 8, 8, 32)         0         \n",
            " 2D)                                                             \n",
            "                                                                 \n",
            " dropout_1 (Dropout)         (None, 8, 8, 32)          0         \n",
            "                                                                 \n",
            " flatten (Flatten)           (None, 2048)              0         \n",
            "                                                                 \n",
            " dense (Dense)               (None, 128)               262272    \n",
            "                                                                 \n",
            " dropout_2 (Dropout)         (None, 128)               0         \n",
            "                                                                 \n",
            " dense_1 (Dense)             (None, 36)                4644      \n",
            "                                                                 \n",
            "=================================================================\n",
            "Total params: 272,004\n",
            "Trainable params: 272,004\n",
            "Non-trainable params: 0\n",
            "_________________________________________________________________\n"
          ]
        }
      ]
    },
    {
      "cell_type": "code",
      "source": [
        "epochs = 10\n",
        "# fit model\n",
        "his = model.fit(\n",
        "  train_ds,\n",
        "  validation_data = val_ds,\n",
        "  epochs = epochs\n",
        ")"
      ],
      "metadata": {
        "id": "6N-cyFgeeeyS",
        "colab": {
          "base_uri": "https://localhost:8080/"
        },
        "outputId": "eb158737-8364-4542-8336-283326655564"
      },
      "execution_count": 13,
      "outputs": [
        {
          "output_type": "stream",
          "name": "stdout",
          "text": [
            "Epoch 1/10\n"
          ]
        },
        {
          "output_type": "stream",
          "name": "stderr",
          "text": [
            "/usr/local/lib/python3.8/dist-packages/tensorflow/python/util/dispatch.py:1082: UserWarning: \"`sparse_categorical_crossentropy` received `from_logits=True`, but the `output` argument was produced by a sigmoid or softmax activation and thus does not represent logits. Was this intended?\"\n",
            "  return dispatch_target(*args, **kwargs)\n"
          ]
        },
        {
          "output_type": "stream",
          "name": "stdout",
          "text": [
            "72/72 [==============================] - 8s 5ms/step - loss: nan - sparse_categorical_accuracy: 0.0000e+00 - val_loss: nan - val_sparse_categorical_accuracy: 0.0000e+00\n",
            "Epoch 2/10\n",
            "72/72 [==============================] - 0s 3ms/step - loss: nan - sparse_categorical_accuracy: 0.0000e+00 - val_loss: nan - val_sparse_categorical_accuracy: 0.0000e+00\n",
            "Epoch 3/10\n",
            "72/72 [==============================] - 0s 4ms/step - loss: nan - sparse_categorical_accuracy: 0.0000e+00 - val_loss: nan - val_sparse_categorical_accuracy: 0.0000e+00\n",
            "Epoch 4/10\n",
            "72/72 [==============================] - 0s 3ms/step - loss: nan - sparse_categorical_accuracy: 0.0000e+00 - val_loss: nan - val_sparse_categorical_accuracy: 0.0000e+00\n",
            "Epoch 5/10\n",
            "72/72 [==============================] - 0s 4ms/step - loss: nan - sparse_categorical_accuracy: 0.0000e+00 - val_loss: nan - val_sparse_categorical_accuracy: 0.0000e+00\n",
            "Epoch 6/10\n",
            "72/72 [==============================] - 0s 3ms/step - loss: nan - sparse_categorical_accuracy: 0.0000e+00 - val_loss: nan - val_sparse_categorical_accuracy: 0.0000e+00\n",
            "Epoch 7/10\n",
            "72/72 [==============================] - 0s 4ms/step - loss: nan - sparse_categorical_accuracy: 0.0000e+00 - val_loss: nan - val_sparse_categorical_accuracy: 0.0000e+00\n",
            "Epoch 8/10\n",
            "72/72 [==============================] - 0s 3ms/step - loss: nan - sparse_categorical_accuracy: 0.0000e+00 - val_loss: nan - val_sparse_categorical_accuracy: 0.0000e+00\n",
            "Epoch 9/10\n",
            "72/72 [==============================] - 0s 4ms/step - loss: nan - sparse_categorical_accuracy: 0.0000e+00 - val_loss: nan - val_sparse_categorical_accuracy: 0.0000e+00\n",
            "Epoch 10/10\n",
            "72/72 [==============================] - 0s 4ms/step - loss: nan - sparse_categorical_accuracy: 0.0000e+00 - val_loss: nan - val_sparse_categorical_accuracy: 0.0000e+00\n"
          ]
        }
      ]
    },
    {
      "cell_type": "code",
      "source": [
        "# Save the entire model as a SavedModel.\n",
        "!mkdir -p saved_model\n",
        "model.save('saved_model/my_model')"
      ],
      "metadata": {
        "colab": {
          "base_uri": "https://localhost:8080/"
        },
        "id": "bZbojaSpeCTq",
        "outputId": "81d15bff-e365-4cf0-b1c7-cadfd2ce5575"
      },
      "execution_count": 14,
      "outputs": [
        {
          "output_type": "stream",
          "name": "stderr",
          "text": [
            "WARNING:absl:Found untraced functions such as _jit_compiled_convolution_op, _jit_compiled_convolution_op while saving (showing 2 of 2). These functions will not be directly callable after loading.\n"
          ]
        }
      ]
    },
    {
      "cell_type": "code",
      "source": [
        "# Convert the model.\n",
        "converter = tf.lite.TFLiteConverter.from_keras_model(model)\n",
        "tflite_model = converter.convert()\n",
        "\n",
        "# Save the model.\n",
        "with open('model.tflite', 'wb') as f:\n",
        "  f.write(tflite_model)"
      ],
      "metadata": {
        "colab": {
          "base_uri": "https://localhost:8080/"
        },
        "id": "sgCHYUJ3exxN",
        "outputId": "cbf18496-7635-4889-dc28-620e44594214"
      },
      "execution_count": 15,
      "outputs": [
        {
          "output_type": "stream",
          "name": "stderr",
          "text": [
            "WARNING:absl:Found untraced functions such as _jit_compiled_convolution_op, _jit_compiled_convolution_op while saving (showing 2 of 2). These functions will not be directly callable after loading.\n"
          ]
        }
      ]
    },
    {
      "cell_type": "code",
      "source": [
        "!xxd -i model.tflite > model_data.cc"
      ],
      "metadata": {
        "id": "xZ6yxqh6fZnR"
      },
      "execution_count": 16,
      "outputs": []
    },
    {
      "cell_type": "markdown",
      "source": [
        "# Utilities"
      ],
      "metadata": {
        "id": "BQbwcVyuZBIN"
      }
    },
    {
      "cell_type": "code",
      "source": [
        "temp = '-128, -128, -128, -128, -128, -128, -128, -128, -128, -128, -128, -128, -128, -128, -128, -128, -128, -128, -128, -128, -128, -128, -128, -128, -128, -128, -128, -128, -128, -128, -128, -128, -128, -128, -128, -128, -128, -128, -128, -128, -128, -128, -128, -128, -128, -128, -128, -128, -128, -128, -128, -128, -128, -128, -128, -128, -128, -128, -128, -128, -128, -128, -128, -128, -128, -128, -128, -128, -128, -128, -128, -128, -128, -128, -128, -128, -128, -128, -128, -128, -128, -128, -128, -128, -128, -128, -128, -128, -128, -128, -128, -128, -128, -128, -128, -128, -128, -128, -128, -128, -128, -128, -128, -128, -128, -128, -128, -128, -128, -128, -128, -128, -128, -128, -128, -128, -128, -128, -128, -128, -128, -128, -128, -128, -128, -128, -128, -128, -128, -128, -128, -128, -128, -128, -128, -128, -128, -128, -128, -128, -128, -128, -128, -128, -128, -128, -128, -128, -128, -128, -128, -128, -128, -128, -128, -128, -128, -128, -128, -128, -128, -128, -128, -128, -128, -128, -128, -128, -128, -128, -128, -128, -128, -128, -128, -128, -128, -128, -128, -128, -128, -128, -128, -128, -128, -128, -128, -128, -128, -128, -128, -128, -128, -128, -128, -128, -128, -128, -128, -128, -128, -128, -128, -128, -128, -128, -128, -128, -128, -128, -128, -128, -128, -128, -128, -128, -128, -128, -128, -128, -128, -128, -128, -128, -128, -128, -128, -128, -128, -128, -128, -128, -128, -128, -128, -128, -128, -128, -128, -128, -128, -128, -128, -128, -128, -128, -128, -128, -128, -128, -128, -128, -128, -128, -128, -128, -128, -128, -128, -128, -128, -128, -128, -128, -128, -128, -128, -128, -128, -128, -128, -128, -128, -128, -128, -128, -128, -128, -128, -128, -128, -128, -128, -128, -128, -128, -128, -128, -128, -128, -128, -128, -128, -128, -128, -128, -128, -128, -128, -128, -128, -128, -128, -128, -128, -128, -128, -128, -128, -128, -128, -128, -128, -128, -128, -128, -128, -128, -128, -128, -128, -128, -128, -128, -128, -128, -128, -128, -128, -128, -128, -128, -128, -128, -128, -128, -128, -128, -128, -128, -128, -128, -128, -128, -128, -128, -128, -128, -128, -128, -128, -128, -128, -128, -128, -128, -128, -128, -128, -128, -128, -128, -128, -128, -128, -128, -128, -128, -128, -128, -128, -128, -128, -128, -128, -128, -128, -128, -128, -128, -128, -128, -128, -128, -128, -128, -128, -128, -128, -128, -128, -128, -128, -128, -128, -128, -128, -128, -128, -128, -128, -128, -128, -128, -128, -128, -128, -128, -128, -128, -128, -128, -128, -128, -128, -128, -128, -128, -128, -128, -128, -128, -128, -128, -128, -128, -128, -128, -128, -128, -128, -128, -128, -128, -128, -128, -128, -128, -128, -128, -128, -128, -128, -128, -128, -128, -128, -128, -128, -128, -128, -128, -128, -128, -128, -128, -128, -128, -128, -128, -128, -128, -128, -128, -128, -128, -128, -128, -128, -128, -128, -128, -128, -128, -128, -128, -128, -128, -128, -128, -128, -128, -128, -128, -128, -128, -128, -128, -128, -128, -128, -128, -128, -128, -128, -128, -128, -128, -128, -128, -128, -128, -128, -128, -128, -128, -128, -128, -128, -128, -128, -128, -128, -128, -128, -128, -128, -128, -128, -128, -128, -128, -128, -128, -128, -128, -128, -128, -128, -128, -128, -128, -128, -128, -128, -128, -128, -128, -128, -128, -128, -128, -128, -128, -128, -128, -128, -128, -128, -128, -128, -128, -128, -128, -128, -128, -128, -128, -128, -128, -128, -128, -128, -128, -128, -128, -128, -128, -128, -128, -128, -128, -128, -128, -128, -128, -128, -128, -128, -128, -128, -128, -128, -128, -128, -128, -128, -128, -128, -128, -128, -128, -128, -128, -128, -128, -128, -128, -128, -128, -128, -128, -128, -128, -128, -128, -128, -128, -128, -128, -128, -128, -128, -128, -128, -128, -128, -128, -128, -128, -128, -128, -128, -128, -128, -128, -128, -128, -128, -128, -128, -128, -128, -128, -128, -128, -128, -128, -128, -128, -128, -128, -128, -128, -128, -128, -128, -128, -128, -128, -128, -128, -128, -128, -128, -128, -128, -128, -128, -128, -128, -128, -128, -128, -128, -128, -128, -128, -128, -128, -128, -128, -128, -128, -128, -128, -128, -128, -128, -128, -128, -128, -128, -128, -128, -128, -128, -128, -128, -128, -128, -128, -128, -128, -128, -128, -128, -128, -128, -128, -128, -128, -128, -128, -128, -128, -128, -128, -128, -128, -128, -128, -128, -128, -128, -128, -128, -128, -128, -128, -128, -128, -128, -128, -128, -128, -128, -128, -128, -128, -128, -128, -128, -128, -128, -128, -128, -128, -128, -128, -128, -128, -128, -128, -128, -128, -128, -128, -128, -128, -128, -128, -128, -128, -128, -128, -128, -128, -128, -128, -128, -128, -128, -128, -128, -128, -128, -128, -128, -128, -128, -128, -128, -128, -128, -128, -128, -128, -128, -128, -128, -128, -128, -128, -128, -128, -128, -128, -128, -128, -128, -128, -128, -128, -128, -128, -128, -128, -128, -128, -128, -128, -128, -128, -128, -128, -128, -128, -128, -128, -128, -128, -128, -128, -128, -128, -128, -128, -128, -128, -128, -128, -128, -128, -128, -128, -128, -128, -128, -128, -128, -128, -128, -128, -128, -128, -128, -128, -128, -128, -128, -128, -128, -128, -128, -128, -128, -128, -128, -128, -128, -128, -128, -128, -128, -128, -128, -128, -128, -128, -128, -128, -128, -128, -128, -128, -128, -128, -128, -128, -128, -128, -128, -128, -128, -128, -128, -128, -128, -128, -128, -128, -128, -128, -128, -128, -128, -128, -128, -128, -128, -128, -128, -128, -128, -128, -128, -128, -128, -128, -128, -128, -128, -128, -128, -128, -128, -128, -128, -128, -128, -128, -128, -128, -128, -128, -128, -128, -128, -128, -128, -128, -128, -128, -128, -128, -128, -128, -128, -128, -128, -128, -128, -128, -128, -128, -128, -128, -128, -128, -128, -128, -128, -128, -128, -128, -128, -128, -128, -128, -128, -128, -128, -128, -128, -128, -128, -128, -128, -128, -128, -128, -128, -128, -128, -128, -128, -128, -128, -128, -128, -128, -128, -128, -128, -128, -128, -128, -128, -128, -128, -128, -128, -128, -128, -128, -128, -128, -128, -128, -128, -128, -128, -128, -128, -128, -128, -128, -128, -128, -128, -128, -128, -128, -128, -128, -128, -128, -128, -128, -128, -128, -128, -128, -128, -128, -128, -128, -128, -128, -128, -128, -128, -128, -128, -128, -128, -128, -128, -128, -128, -128, -128, -128, -128, -128, -128, -128, -128, -128, -128, -128, -128, -128, -128, -128, -128, -128, -128, -128, -128, -128, -128, -128, -128, -128, -128, -128, -128, -128, -128, -128, -128, -128, -128, -128, -128, -128, -128, -128, -128, -128, -128, -128, -128, -128, -128, -128, -128, -128, -128, -128, -128, -128, -128, -128, -128, -128, -128, -128, -128, -128, -128, -128, -128, -128, -128, -128, -128, -128, -128, -128, -128, -128, -128, -128, -128, -128, -128, -128, -128, -128, -128, -128, -128, -128, -128, -128, -128, -128, -128, -128, -128, -128, -128, -128, -128, -128, -128, -128, -128, -128, -128, -128, -128, -128, -128, -128, -128, -128, -128, -128, -128, -128, -128, -128, -128, -128, -128, -128, -128, -128, -128, -128, -128, -128, -128, -128, -128, -128, -128, -128, -128, -128, -128, -128, -128, -128, -128, -128, -128, -128, -128, -128, -128, -128, -128, -128, -128, -128, -128, -128, -128, -128, -128, -128, -128, -128, -128, -128, -128, -128, -128, -128, -128, -128, -128, -128, -128, -128, -128, -128, -128, -128, -128, -128, -128, -128, -128, -128, -128, -128, -128, -128, -128, -128, -128, -128, -128, -128, -128, -128, -128, -128, -128, -128, -128, -128, -128, -128, -128, -128, -128, -128, -128, -128, -128, -128, -128, -128, -128, -128, -128, -128, -128, -128, -128, -128, -128, -128, -128, -128, -128, -128, -128, -128, -128, -128, -128, -128, -128, -128, -128, -128, -128, -128, -128, -128, -128, -128, -128, -128, -128, -128, -128, -128, -128, -128, -128, -128, -128, -128, -128, -128, -128, -128, -128, -128, -128, -128, -128, -128, -128, -128, -128, -128, -128, -128, -128, -128, -128, -128, -128, -128, -128, -128, 11, -12, -128, -128, -128, -128, -128, -128, -128, -128, -128, -128, -128, -128, -128, -128, -128, -128, -128, -128, -128, -128, -128, -128, -128, -128, -128, -128, -128, -128, -128, -128, -128, -128, -128, -128, -128, -128, -128, -128, -128, -128, -128, -128, -128, -128, -128, -128, -128, -128, -128, -128, -128, -128, -128, -128, -128, -128, -128, -128, -128, -128, -128, -128, -128, -128, -128, -128, -128, -128, -128, -128, -128, -128, -128, -128, -128, -40, 39, -128, -34, 33, -128, -28, 27, -128, -22, 21, -128, -128, -128, -128, -128, 53, -54, -128, -48, 47, -128, -78, 77, -128, -128, -128, -128, -128, -128, -128, -128, -128, -128, -128, -128, -128, -128, -128, -128, -128, -128, -128, -128, -128, -128, -128, -128, -128, -128, -128, -128, -128, -128, -128, -128, -128, -128, -128, -128, -128, -128, -128, -128, -128, -128, -128, -128, -128, -128, -128, -128, -128, -128, -128, -128, -128, -128, -128, -128, -128, -128, -128, -128, -128, -128, -128, -128, -128, -128, -128, -128, -128, -52, 51, -128, -128, -128, -128, -128, -128, -128, -128, -128, -128, -128, -128, -128, -128, 65, -66, -128, -128, -128, -128, -128, -128, -128, -128, -128, -128, -128, -128, -128, -128, -128, -128, -128, -128, -128, -128, -128, -128, -128, -128, -128, -128, -128, -128, -128, -128, -128, -128, -128, -128, -128, -128, -128, -128, -128, -128, -128, -128, -128, -128, -128, -128, -128, -128, -128, -128, -128, -128, -128, -128, -128, -128, -128, -128, -128, -128, -128, -128, -128, -128, -128, -128, -128, -128, -128, -128, -128, -128, -128, -128, -128, -64, 63, -128, -128, -128, -128, -128, -128, -128, -128, -128, -128, -128, -128, -128, 121, -122, -128, -128, 71, -72, -128, -128, -128, -128, -128, -128, -128, -128, -128, -128, -128, -128, -128, -128, -128, -128, -128, -128, -128, -128, -128, -128, -128, -128, -128, -128, -128, -128, -128, -128, -128, -128, -128, -128, -128, -128, -128, -128, -128, -128, -128, -128, -128, -128, -128, -128, -128, -128, -128, -128, -128, -128, -128, -128, -128, -128, -128, -128, -128, -128, -128, -128, -128, -128, -128, -128, -128, -128, -128, -128, -128, -128, -70, 69, -128, -128, -128, -128, -128, -128, -128, -128, -128, -128, -128, -128, -128, -128, -128, -128, -128, 83, -84, -128, -128, -128, -128, -128, -128, -128, -128, -128, -128, -128, -128, -128, -128, -128, -128, -128, -128, -128, -128, -128, -128, -128, -128, -128, -128, -128, -128, -128, -128, -128, -128, -128, -128, -128, -128, -128, -128, -128, -128, -128, -128, -128, -128, -128, -128, -128, -128, -128, -128, -128, -128, -128, -128, -128, -128, -128, -128, -128, -128, -128, -128, -128, -128, -128, -128, -128, -128, -128, -128, -128, -128, -128, -128, -128, -76, 75, -128, -128, -128, -128, -128, -128, -128, -128, -128, -128, -128, -128, -128, -128, -128, -128, -128, -128, -128, -128, -128, -128, -128, -128, -128, -128, -128, -128, -128, -128, -128, -128, -128, -128, -128, -128, -128, -128, -128, -128, -128, -128, -128, -128, -128, -128, -128, -128, -128, -128, -128, -128, -128, -128, -128, -128, -128, -128, -128, -128, -128, -128, -128, -128, -128, -128, -128, -128, -128, -128, -128, -128, -128, -128, -128, -128, -128, -128, -128, -128, -128, -128, -128, -128, -128, -128, -128, -128, -128, -128, -128, -88, 87, -128, -82, 81, -128, -128, -128, -128, -128, -128, -128, -128, -128, -128, -128, -128, -128, -128, 89, -90, -128, -128, -128, -128, -128, -128, -128, -128, -128, -128, -128, -128, -128, -128, -128, -128, -128, -128, -128, -128, -128, -128, -128, -128, -128, -128, -128, -128, -128, -128, -128, -128, -128, -128, -128, -128, -128, -128, -128, -128, -128, -128, -128, -128, -128, -128, -128, -128, -128, -128, -128, -128, -128, -128, -128, -128, -128, -128, -128, -128, -128, -128, -128, -128, -128, -128, -128, -128, -128, -128, -128, -128, -128, -128, -128, -94, 93, -128, -128, -128, -128, -128, -128, -128, -128, -128, -128, -128, -128, -128, -128, -128, -128, -128, 95, -96, -128, -128, -128, -128, -128, -128, -128, -128, -128, -128, -128, -128, -128, -128, -128, -128, -128, -128, -128, -128, -128, -128, -128, -128, -128, -128, -128, -128, -128, -128, -128, -128, -128, -128, -128, -128, -128, -128, -128, -128, -128, -128, -128, -128, -128, -128, -128, -128, -128, -128, -128, -128, -128, -128, -128, -128, -128, -128, -128, -128, -128, -128, -128, -128, -128, -128, -128, -128, -128, -128, -128, -128, -128, -128, -128, -100, 99, -128, -128, -128, -128, -128, -128, -128, -128, -128, -128, -128, -128, -128, -128, -128, -128, -128, 101, -102, -128, -128, -128, -128, -128, -128, -128, -128, -128, -128, -128, -128, -128, -128, -128, -128, -128, -128, -128, -128, -128, -128, -128, -128, -128, -128, -128, -128, -128, -128, -128, -128, -128, -128, -128, -128, -128, -128, -128, -128, -128, -128, -128, -128, -128, -128, -128, -128, -128, -128, -128, -128, -128, -128, -128, -128, -128, -128, -128, -128, -128, -128, -128, -128, -128, -128, -128, -128, -128, -128, -128, -128, -128, -128, -128, -106, 105, -128, -128, -128, -128, -128, -128, -128, -128, -128, -128, -128, -128, -128, -128, 107, -108, -128, -128, -128, -128, -128, -128, -128, -128, -128, -128, -128, -128, -128, -128, -128, -128, -128, -128, -128, -128, -128, -128, -128, -128, -128, -128, -128, -128, -128, -128, -128, -128, -128, -128, -128, -128, -128, -128, -128, -128, -128, -128, -128, -128, -128, -128, -128, -128, -128, -128, -128, -128, -128, -128, -128, -128, -128, -128, -128, -128, -128, -128, -128, -128, -128, -128, -128, -128, -128, -128, -128, -128, -128, -128, -128, -128, -128, -128, -128, -128, -128, -112, 111, -128, -128, -128, -128, -128, -128, -128, -128, 113, -114, -128, -128, -128, -128, -128, -128, -128, -128, -128, -128, -128, -128, -128, -128, -128, -128, -128, -128, -128, -128, -128, -128, -128, -128, -128, -128, -128, -128, -128, -128, -128, -128, -128, -128, -128, -128, -128, -128, -128, -128, -128, -128, -128, -128, -128, -128, -128, -128, -128, -128, -128, -128, -128, -128, -128, -128, -128, -128, -128, -128, -128, -128, -128, -128, -128, -128, -128, -128, -128, -128, -128, -128, -128, -128, -128, -128, -128, -128, -128, -128, -128, -128, -128, -128, -118, 117, -128, -124, 123, -128, -128, -128, -128, -128, 119, -120, -128, -128, -128, -128, -128, -128, -128, -128, -128, -128, -128, -128, -128, -128, -128, -128, -128, -128, -128, -128, -128, -128, -128, -128, -128, -128, -128, -128, -128, -128, -128, -128, -128, -128, -128, -128, -128, -128, -128, -128, -128, -128, -128, -128, -128, -128, -128, -128, -128, -128, -128, -128, -128, -128, -128, -128, -128, -128, -128, -128, -128, -128, -128, -128, -128, -128, -128, -128, -128, -128, -128, -128, -128, -128, -128, -128, -128, -128, -128, -128, -128, -128, -128, -128, -128, -128, -128, -118, 117, -128, -128, 125, -126, -128, -128, -128, -128, -128, -128, -128, -128, -128, -128, -128, -128, -128, -128, -128, -128, -128, -128, -128, -128, -128, -128, -128, -128, -128, -128, -128, -128, -128, -128, -128, -128, -128, -128, -128, -128, -128, -128, -128, -128, -128, -128, -128, -128, -128, -128, -128, -128, -128, -128, -128, -128, -128, -128, -128, -128, -128, -128, -128, -128, -128, -128, -128, -128, -128, -128, -128, -128, -128, -128, -128, -128, -128, -128, -128, -128, -128, -128, -128, -128, -128, -128, -128, -128, -128, -128, -128, -128, -128, -128, -128, -128, -128, -128, -128, -128, -128, -128, -128, -128, -128, -128, -128, -128, -128, -128, -128, -128, -128, -128, -128, -128, -128, -128, -128, -128, -128, -128, -128, -128, -128, -128, -128, -128, -128, -128, -128, -128, -128, -128, -128, -128, -128, -128, -128, -128, -128, -128, -128, -128, -128, -128, -128, -128, -128, -128, -128, -128, -128, -128, -128, -128, -128, -128, -128, -128, -128, -128, -128, -128, -128, -128, -128, -128, -128, -128, -128, -128, -128, -128, -128, -128, -128, -128, -128, -128, -128, -128, -128, -128, -128, -128, -128, -128, -128, -128, -128, -128, -128, -128, -128, -128, -128, -128, -128, -128, -128, -128, -128, -128, -128, -128, -128, -128, -128, -128, -128, -128, -128, -128, -128, -128, -128, -128, -128, -128, -128, -128, -128, -128, -128, -128, -128, -128, -128, -128, -128, -128, -128, -128, -128, -128, -128, -128, -128, -128, -128, -128, -128, -128, -128, -128, -128, -128, -128, -128, -128, -128, -128, -128, -128, -128, -128, -128, -128, -128, -128, -128, -128, -128, -128, -128, -128, -128, -128, -128, -128, -128, -128, -128, -128, -128, -128, -128, -128, -128, -128, -128, -128, -128, -128, -128, -128, -128, -128, -128, -128, -128, -128, -128, -128, -128, -128, -128, -128, -128, -128, -128, -128, -128, -128, -128, -128, -128, -128, -128, -128, -128, -128, -128, -128, -128, -128, -128, -128, -128, -128, -128, -128, -128, -128, -128, -128, -128, -128, -128, -128, -128, -128, -128, -128, -128, -128, -128, -128, -128, -128, -128, -128, -128, -128, -128, -128, -128, -128, -128, -128, -128, -128, -128, -128, -128, -128, -128, -128, -128, -128, -128, -128, -128, -128, -128, -128, -128, -128, -128, -128, -128, -128, -128, -128, -128, -128, -128, -128, -128, -128, -128, -128, -128, -128, -128, -128, -128, -128, -128, -128, -128, -128, -128, -128, -128, -128, -128, -128, -128, -128, -128, -128, -128, -128, -128, -128, -128, -128, -128, -128, -128, -128, -128, -128, -128, -128, -128, -128, -128, -128, -128, -128, -128, -128, -128, -128, -128, -128, -128, -128, -128, -128, -128, -128, -128, -128, -128, -128, -128, -128, -128, -128, -128, -128, -128, -128, -128, -128, -128, -128, -128, -128, -128, -128, -128, -128, -128, -128, -128, -128, -128, -128, -128, -128, -128, -128, -128, -128, -128, -128, -128, -128, -128, -128, -128, -128, -128, -128, -128, -128, -128, -128, -128, -128, -128, -128, -128, -128, -128, -128, -128, -128, -128, -128, -128, -128, -128, -128, -128, -128, -128, -128, -128, -128, -128, -128, -128, -128, -128, -128, -128, -128, -128, -128, -128, -128, -128, -128, -128, -128, -128, -128, -128, -128, -128, -128, -128, -128, -128, -128, -128, -128, -128, -128, -128, -128, -128, -128, -128, -128, -128, -128, -128, -128, -128, -128, -128, -128, -128, -128, -128, -128, -128, -128, -128, -128, -128, -128, -128, -128, -128, -128, -128, -128, -128, -128, -128, -128, -128, -128, -128, -128, -128, -128, -128, -128, -128, -128, -128, -128, -128, -128, -128, -128, -128, -128, -128, -128, -128, -128, -128, -128, -128, -128, -128, -128, -128, -128, -128, -128, -128, -128, -128, -128, -128, -128, -128, -128, -128, -128, -128, -128, -128, -128, -128, -128, -128, -128, -128, -128, -128, -128, -128, -128, -128, -128, -128, -128, -128, -128, -128, -128, -128, -128, -128, -128'\n",
        "temp_data = temp.split(', ')\n",
        "for i in range(0, len(temp_data)):\n",
        "    temp_data[i] = int(temp_data[i])\n",
        "countOfWords = len(temp_data)\n",
        "print(temp_data)\n",
        "print(countOfWords)\n",
        "temp_data = np.resize(temp_data, (input_height, input_width, input_channel))\n",
        "print(temp_data)"
      ],
      "metadata": {
        "colab": {
          "base_uri": "https://localhost:8080/"
        },
        "id": "BB8sFDMOUToZ",
        "outputId": "6eb35849-974f-4c2b-aa30-6fa8fbab0c1d"
      },
      "execution_count": null,
      "outputs": [
        {
          "output_type": "stream",
          "name": "stdout",
          "text": [
            "[-128, -128, -128, -128, -128, -128, -128, -128, -128, -128, -128, -128, -128, -128, -128, -128, -128, -128, -128, -128, -128, -128, -128, -128, -128, -128, -128, -128, -128, -128, -128, -128, -128, -128, -128, -128, -128, -128, -128, -128, -128, -128, -128, -128, -128, -128, -128, -128, -128, -128, -128, -128, -128, -128, -128, -128, -128, -128, -128, -128, -128, -128, -128, -128, -128, -128, -128, -128, -128, -128, -128, -128, -128, -128, -128, -128, -128, -128, -128, -128, -128, -128, -128, -128, -128, -128, -128, -128, -128, -128, -128, -128, -128, -128, -128, -128, -128, -128, -128, -128, -128, -128, -128, -128, -128, -128, -128, -128, -128, -128, -128, -128, -128, -128, -128, -128, -128, -128, -128, -128, -128, -128, -128, -128, -128, -128, -128, -128, -128, -128, -128, -128, -128, -128, -128, -128, -128, -128, -128, -128, -128, -128, -128, -128, -128, -128, -128, -128, -128, -128, -128, -128, -128, -128, -128, -128, -128, -128, -128, -128, -128, -128, -128, -128, -128, -128, -128, -128, -128, -128, -128, -128, -128, -128, -128, -128, -128, -128, -128, -128, -128, -128, -128, -128, -128, -128, -128, -128, -128, -128, -128, -128, -128, -128, -128, -128, -128, -128, -128, -128, -128, -128, -128, -128, -128, -128, -128, -128, -128, -128, -128, -128, -128, -128, -128, -128, -128, -128, -128, -128, -128, -128, -128, -128, -128, -128, -128, -128, -128, -128, -128, -128, -128, -128, -128, -128, -128, -128, -128, -128, -128, -128, -128, -128, -128, -128, -128, -128, -128, -128, -128, -128, -128, -128, -128, -128, -128, -128, -128, -128, -128, -128, -128, -128, -128, -128, -128, -128, -128, -128, -128, -128, -128, -128, -128, -128, -128, -128, -128, -128, -128, -128, -128, -128, -128, -128, -128, -128, -128, -128, -128, -128, -128, -128, -128, -128, -128, -128, -128, -128, -128, -128, -128, -128, -128, -128, -128, -128, -128, -128, -128, -128, -128, -128, -128, -128, -128, -128, -128, -128, -128, -128, -128, -128, -128, -128, -128, -128, -128, -128, -128, -128, -128, -128, -128, -128, -128, -128, -128, -128, -128, -128, -128, -128, -128, -128, -128, -128, -128, -128, -128, -128, -128, -128, -128, -128, -128, -128, -128, -128, -128, -128, -128, -128, -128, -128, -128, -128, -128, -128, -128, -128, -128, -128, -128, -128, -128, -128, -128, -128, -128, -128, -128, -128, -128, -128, -128, -128, -128, -128, -128, -128, -128, -128, -128, -128, -128, -128, -128, -128, -128, -128, -128, -128, -128, -128, -128, -128, -128, -128, -128, -128, -128, -128, -128, -128, -128, -128, -128, -128, -128, -128, -128, -128, -128, -128, -128, -128, -128, -128, -128, -128, -128, -128, -128, -128, -128, -128, -128, -128, -128, -128, -128, -128, -128, -128, -128, -128, -128, -128, -128, -128, -128, -128, -128, -128, -128, -128, -128, -128, -128, -128, -128, -128, -128, -128, -128, -128, -128, -128, -128, -128, -128, -128, -128, -128, -128, -128, -128, -128, -128, -128, -128, -128, -128, -128, -128, -128, -128, -128, -128, -128, -128, -128, -128, -128, -128, -128, -128, -128, -128, -128, -128, -128, -128, -128, -128, -128, -128, -128, -128, -128, -128, -128, -128, -128, -128, -128, -128, -128, -128, -128, -128, -128, -128, -128, -128, -128, -128, -128, -128, -128, -128, -128, -128, -128, -128, -128, -128, -128, -128, -128, -128, -128, -128, -128, -128, -128, -128, -128, -128, -128, -128, -128, -128, -128, -128, -128, -128, -128, -128, -128, -128, -128, -128, -128, -128, -128, -128, -128, -128, -128, -128, -128, -128, -128, -128, -128, -128, -128, -128, -128, -128, -128, -128, -128, -128, -128, -128, -128, -128, -128, -128, -128, -128, -128, -128, -128, -128, -128, -128, -128, -128, -128, -128, -128, -128, -128, -128, -128, -128, -128, -128, -128, -128, -128, -128, -128, -128, -128, -128, -128, -128, -128, -128, -128, -128, -128, -128, -128, -128, -128, -128, -128, -128, -128, -128, -128, -128, -128, -128, -128, -128, -128, -128, -128, -128, -128, -128, -128, -128, -128, -128, -128, -128, -128, -128, -128, -128, -128, -128, -128, -128, -128, -128, -128, -128, -128, -128, -128, -128, -128, -128, -128, -128, -128, -128, -128, -128, -128, -128, -128, -128, -128, -128, -128, -128, -128, -128, -128, -128, -128, -128, -128, -128, -128, -128, -128, -128, -128, -128, -128, -128, -128, -128, -128, -128, -128, -128, -128, -128, -128, -128, -128, -128, -128, -128, -128, -128, -128, -128, -128, -128, -128, -128, -128, -128, -128, -128, -128, -128, -128, -128, -128, -128, -128, -128, -128, -128, -128, -128, -128, -128, -128, -128, -128, -128, -128, -128, -128, -128, -128, -128, -128, -128, -128, -128, -128, -128, -128, -128, -128, -128, -128, -128, -128, -128, -128, -128, -128, -128, -128, -128, -128, -128, -128, -128, -128, -128, -128, -128, -128, -128, -128, -128, -128, -128, -128, -128, -128, -128, -128, -128, -128, -128, -128, -128, -128, -128, -128, -128, -128, -128, -128, -128, -128, -128, -128, -128, -128, -128, -128, -128, -128, -128, -128, -128, -128, -128, -128, -128, -128, -128, -128, -128, -128, -128, -128, -128, -128, -128, -128, -128, -128, -128, -128, -128, -128, -128, -128, -128, -128, -128, -128, -128, -128, -128, -128, -128, -128, -128, -128, -128, -128, -128, -128, -128, -128, -128, -128, -128, -128, -128, -128, -128, -128, -128, -128, -128, -128, -128, -128, -128, -128, -128, -128, -128, -128, -128, -128, -128, -128, -128, -128, -128, -128, -128, -128, -128, -128, -128, -128, -128, -128, -128, -128, -128, -128, -128, -128, -128, -128, -128, -128, -128, -128, -128, -128, -128, -128, -128, -128, -128, -128, -128, -128, -128, -128, -128, -128, -128, -128, -128, -128, -128, -128, -128, -128, -128, -128, -128, -128, -128, -128, -128, -128, -128, -128, -128, -128, -128, -128, -128, -128, -128, -128, -128, -128, -128, -128, -128, -128, -128, -128, -128, -128, -128, -128, -128, -128, -128, -128, -128, -128, -128, -128, -128, -128, -128, -128, -128, -128, -128, -128, -128, -128, -128, -128, -128, -128, -128, -128, -128, -128, -128, -128, -128, -128, -128, -128, -128, -128, -128, -128, -128, -128, -128, -128, -128, -128, -128, -128, -128, -128, -128, -128, -128, -128, -128, -128, -128, -128, -128, -128, -128, -128, -128, -128, -128, -128, -128, -128, -128, -128, -128, -128, -128, -128, -128, -128, -128, -128, -128, -128, -128, -128, -128, -128, -128, -128, -128, -128, -128, -128, -128, -128, -128, -128, -128, -128, -128, -128, -128, -128, -128, -128, -128, -128, -128, -128, -128, -128, -128, -128, -128, -128, -128, -128, -128, -128, -128, -128, -128, -128, -128, -128, -128, -128, -128, -128, -128, -128, -128, -128, -128, -128, -128, -128, -128, -128, -128, -128, -128, -128, -128, -128, -128, -128, -128, -128, -128, -128, -128, -128, -128, -128, -128, -128, -128, -128, -128, -128, -128, -128, -128, -128, -128, -128, -128, -128, -128, -128, -128, -128, -128, -128, -128, -128, -128, -128, -128, -128, -128, -128, -128, -128, -128, -128, -128, -128, -128, -128, -128, -128, -128, -128, -128, -128, -128, -128, -128, -128, -128, -128, -128, -128, -128, -128, -128, -128, -128, -128, -128, -128, -128, -128, -128, -128, -128, -128, -128, -128, -128, -128, -128, -128, -128, -128, -128, -128, -128, -128, -128, -128, -128, -128, -128, -128, -128, -128, -128, -128, -128, -128, -128, -128, -128, -128, -128, -128, -128, -128, -128, -128, -128, -128, -128, -128, -128, -128, -128, -128, -128, -128, -128, -128, -128, -128, -128, -128, -128, -128, -128, -128, -128, -128, -128, -128, -128, -128, -128, -128, -128, -128, -128, -128, -128, -128, -128, -128, -128, -128, -128, -128, -128, -128, -128, -128, -128, -128, -128, -128, -128, -128, -128, -128, -128, -128, -128, -128, -128, -128, -128, -128, -128, -128, -128, -128, -128, -128, -128, -128, -128, -128, -128, -128, -128, -128, -128, -128, -128, -128, -128, -128, -128, -128, -128, -128, -128, -128, -128, -128, -128, -128, -128, -128, -128, -128, -128, -128, -128, -128, -128, -128, -128, -128, 11, -12, -128, -128, -128, -128, -128, -128, -128, -128, -128, -128, -128, -128, -128, -128, -128, -128, -128, -128, -128, -128, -128, -128, -128, -128, -128, -128, -128, -128, -128, -128, -128, -128, -128, -128, -128, -128, -128, -128, -128, -128, -128, -128, -128, -128, -128, -128, -128, -128, -128, -128, -128, -128, -128, -128, -128, -128, -128, -128, -128, -128, -128, -128, -128, -128, -128, -128, -128, -128, -128, -128, -128, -128, -128, -128, -128, -40, 39, -128, -34, 33, -128, -28, 27, -128, -22, 21, -128, -128, -128, -128, -128, 53, -54, -128, -48, 47, -128, -78, 77, -128, -128, -128, -128, -128, -128, -128, -128, -128, -128, -128, -128, -128, -128, -128, -128, -128, -128, -128, -128, -128, -128, -128, -128, -128, -128, -128, -128, -128, -128, -128, -128, -128, -128, -128, -128, -128, -128, -128, -128, -128, -128, -128, -128, -128, -128, -128, -128, -128, -128, -128, -128, -128, -128, -128, -128, -128, -128, -128, -128, -128, -128, -128, -128, -128, -128, -128, -128, -128, -52, 51, -128, -128, -128, -128, -128, -128, -128, -128, -128, -128, -128, -128, -128, -128, 65, -66, -128, -128, -128, -128, -128, -128, -128, -128, -128, -128, -128, -128, -128, -128, -128, -128, -128, -128, -128, -128, -128, -128, -128, -128, -128, -128, -128, -128, -128, -128, -128, -128, -128, -128, -128, -128, -128, -128, -128, -128, -128, -128, -128, -128, -128, -128, -128, -128, -128, -128, -128, -128, -128, -128, -128, -128, -128, -128, -128, -128, -128, -128, -128, -128, -128, -128, -128, -128, -128, -128, -128, -128, -128, -128, -128, -64, 63, -128, -128, -128, -128, -128, -128, -128, -128, -128, -128, -128, -128, -128, 121, -122, -128, -128, 71, -72, -128, -128, -128, -128, -128, -128, -128, -128, -128, -128, -128, -128, -128, -128, -128, -128, -128, -128, -128, -128, -128, -128, -128, -128, -128, -128, -128, -128, -128, -128, -128, -128, -128, -128, -128, -128, -128, -128, -128, -128, -128, -128, -128, -128, -128, -128, -128, -128, -128, -128, -128, -128, -128, -128, -128, -128, -128, -128, -128, -128, -128, -128, -128, -128, -128, -128, -128, -128, -128, -128, -128, -128, -70, 69, -128, -128, -128, -128, -128, -128, -128, -128, -128, -128, -128, -128, -128, -128, -128, -128, -128, 83, -84, -128, -128, -128, -128, -128, -128, -128, -128, -128, -128, -128, -128, -128, -128, -128, -128, -128, -128, -128, -128, -128, -128, -128, -128, -128, -128, -128, -128, -128, -128, -128, -128, -128, -128, -128, -128, -128, -128, -128, -128, -128, -128, -128, -128, -128, -128, -128, -128, -128, -128, -128, -128, -128, -128, -128, -128, -128, -128, -128, -128, -128, -128, -128, -128, -128, -128, -128, -128, -128, -128, -128, -128, -128, -128, -128, -76, 75, -128, -128, -128, -128, -128, -128, -128, -128, -128, -128, -128, -128, -128, -128, -128, -128, -128, -128, -128, -128, -128, -128, -128, -128, -128, -128, -128, -128, -128, -128, -128, -128, -128, -128, -128, -128, -128, -128, -128, -128, -128, -128, -128, -128, -128, -128, -128, -128, -128, -128, -128, -128, -128, -128, -128, -128, -128, -128, -128, -128, -128, -128, -128, -128, -128, -128, -128, -128, -128, -128, -128, -128, -128, -128, -128, -128, -128, -128, -128, -128, -128, -128, -128, -128, -128, -128, -128, -128, -128, -128, -128, -88, 87, -128, -82, 81, -128, -128, -128, -128, -128, -128, -128, -128, -128, -128, -128, -128, -128, -128, 89, -90, -128, -128, -128, -128, -128, -128, -128, -128, -128, -128, -128, -128, -128, -128, -128, -128, -128, -128, -128, -128, -128, -128, -128, -128, -128, -128, -128, -128, -128, -128, -128, -128, -128, -128, -128, -128, -128, -128, -128, -128, -128, -128, -128, -128, -128, -128, -128, -128, -128, -128, -128, -128, -128, -128, -128, -128, -128, -128, -128, -128, -128, -128, -128, -128, -128, -128, -128, -128, -128, -128, -128, -128, -128, -128, -128, -94, 93, -128, -128, -128, -128, -128, -128, -128, -128, -128, -128, -128, -128, -128, -128, -128, -128, -128, 95, -96, -128, -128, -128, -128, -128, -128, -128, -128, -128, -128, -128, -128, -128, -128, -128, -128, -128, -128, -128, -128, -128, -128, -128, -128, -128, -128, -128, -128, -128, -128, -128, -128, -128, -128, -128, -128, -128, -128, -128, -128, -128, -128, -128, -128, -128, -128, -128, -128, -128, -128, -128, -128, -128, -128, -128, -128, -128, -128, -128, -128, -128, -128, -128, -128, -128, -128, -128, -128, -128, -128, -128, -128, -128, -128, -128, -100, 99, -128, -128, -128, -128, -128, -128, -128, -128, -128, -128, -128, -128, -128, -128, -128, -128, -128, 101, -102, -128, -128, -128, -128, -128, -128, -128, -128, -128, -128, -128, -128, -128, -128, -128, -128, -128, -128, -128, -128, -128, -128, -128, -128, -128, -128, -128, -128, -128, -128, -128, -128, -128, -128, -128, -128, -128, -128, -128, -128, -128, -128, -128, -128, -128, -128, -128, -128, -128, -128, -128, -128, -128, -128, -128, -128, -128, -128, -128, -128, -128, -128, -128, -128, -128, -128, -128, -128, -128, -128, -128, -128, -128, -128, -128, -106, 105, -128, -128, -128, -128, -128, -128, -128, -128, -128, -128, -128, -128, -128, -128, 107, -108, -128, -128, -128, -128, -128, -128, -128, -128, -128, -128, -128, -128, -128, -128, -128, -128, -128, -128, -128, -128, -128, -128, -128, -128, -128, -128, -128, -128, -128, -128, -128, -128, -128, -128, -128, -128, -128, -128, -128, -128, -128, -128, -128, -128, -128, -128, -128, -128, -128, -128, -128, -128, -128, -128, -128, -128, -128, -128, -128, -128, -128, -128, -128, -128, -128, -128, -128, -128, -128, -128, -128, -128, -128, -128, -128, -128, -128, -128, -128, -128, -128, -112, 111, -128, -128, -128, -128, -128, -128, -128, -128, 113, -114, -128, -128, -128, -128, -128, -128, -128, -128, -128, -128, -128, -128, -128, -128, -128, -128, -128, -128, -128, -128, -128, -128, -128, -128, -128, -128, -128, -128, -128, -128, -128, -128, -128, -128, -128, -128, -128, -128, -128, -128, -128, -128, -128, -128, -128, -128, -128, -128, -128, -128, -128, -128, -128, -128, -128, -128, -128, -128, -128, -128, -128, -128, -128, -128, -128, -128, -128, -128, -128, -128, -128, -128, -128, -128, -128, -128, -128, -128, -128, -128, -128, -128, -128, -128, -118, 117, -128, -124, 123, -128, -128, -128, -128, -128, 119, -120, -128, -128, -128, -128, -128, -128, -128, -128, -128, -128, -128, -128, -128, -128, -128, -128, -128, -128, -128, -128, -128, -128, -128, -128, -128, -128, -128, -128, -128, -128, -128, -128, -128, -128, -128, -128, -128, -128, -128, -128, -128, -128, -128, -128, -128, -128, -128, -128, -128, -128, -128, -128, -128, -128, -128, -128, -128, -128, -128, -128, -128, -128, -128, -128, -128, -128, -128, -128, -128, -128, -128, -128, -128, -128, -128, -128, -128, -128, -128, -128, -128, -128, -128, -128, -128, -128, -128, -118, 117, -128, -128, 125, -126, -128, -128, -128, -128, -128, -128, -128, -128, -128, -128, -128, -128, -128, -128, -128, -128, -128, -128, -128, -128, -128, -128, -128, -128, -128, -128, -128, -128, -128, -128, -128, -128, -128, -128, -128, -128, -128, -128, -128, -128, -128, -128, -128, -128, -128, -128, -128, -128, -128, -128, -128, -128, -128, -128, -128, -128, -128, -128, -128, -128, -128, -128, -128, -128, -128, -128, -128, -128, -128, -128, -128, -128, -128, -128, -128, -128, -128, -128, -128, -128, -128, -128, -128, -128, -128, -128, -128, -128, -128, -128, -128, -128, -128, -128, -128, -128, -128, -128, -128, -128, -128, -128, -128, -128, -128, -128, -128, -128, -128, -128, -128, -128, -128, -128, -128, -128, -128, -128, -128, -128, -128, -128, -128, -128, -128, -128, -128, -128, -128, -128, -128, -128, -128, -128, -128, -128, -128, -128, -128, -128, -128, -128, -128, -128, -128, -128, -128, -128, -128, -128, -128, -128, -128, -128, -128, -128, -128, -128, -128, -128, -128, -128, -128, -128, -128, -128, -128, -128, -128, -128, -128, -128, -128, -128, -128, -128, -128, -128, -128, -128, -128, -128, -128, -128, -128, -128, -128, -128, -128, -128, -128, -128, -128, -128, -128, -128, -128, -128, -128, -128, -128, -128, -128, -128, -128, -128, -128, -128, -128, -128, -128, -128, -128, -128, -128, -128, -128, -128, -128, -128, -128, -128, -128, -128, -128, -128, -128, -128, -128, -128, -128, -128, -128, -128, -128, -128, -128, -128, -128, -128, -128, -128, -128, -128, -128, -128, -128, -128, -128, -128, -128, -128, -128, -128, -128, -128, -128, -128, -128, -128, -128, -128, -128, -128, -128, -128, -128, -128, -128, -128, -128, -128, -128, -128, -128, -128, -128, -128, -128, -128, -128, -128, -128, -128, -128, -128, -128, -128, -128, -128, -128, -128, -128, -128, -128, -128, -128, -128, -128, -128, -128, -128, -128, -128, -128, -128, -128, -128, -128, -128, -128, -128, -128, -128, -128, -128, -128, -128, -128, -128, -128, -128, -128, -128, -128, -128, -128, -128, -128, -128, -128, -128, -128, -128, -128, -128, -128, -128, -128, -128, -128, -128, -128, -128, -128, -128, -128, -128, -128, -128, -128, -128, -128, -128, -128, -128, -128, -128, -128, -128, -128, -128, -128, -128, -128, -128, -128, -128, -128, -128, -128, -128, -128, -128, -128, -128, -128, -128, -128, -128, -128, -128, -128, -128, -128, -128, -128, -128, -128, -128, -128, -128, -128, -128, -128, -128, -128, -128, -128, -128, -128, -128, -128, -128, -128, -128, -128, -128, -128, -128, -128, -128, -128, -128, -128, -128, -128, -128, -128, -128, -128, -128, -128, -128, -128, -128, -128, -128, -128, -128, -128, -128, -128, -128, -128, -128, -128, -128, -128, -128, -128, -128, -128, -128, -128, -128, -128, -128, -128, -128, -128, -128, -128, -128, -128, -128, -128, -128, -128, -128, -128, -128, -128, -128, -128, -128, -128, -128, -128, -128, -128, -128, -128, -128, -128, -128, -128, -128, -128, -128, -128, -128, -128, -128, -128, -128, -128, -128, -128, -128, -128, -128, -128, -128, -128, -128, -128, -128, -128, -128, -128, -128, -128, -128, -128, -128, -128, -128, -128, -128, -128, -128, -128, -128, -128, -128, -128, -128, -128, -128, -128, -128, -128, -128, -128, -128, -128, -128, -128, -128, -128, -128, -128, -128, -128, -128, -128, -128, -128, -128, -128, -128, -128, -128, -128, -128, -128, -128, -128, -128, -128, -128, -128, -128, -128, -128, -128, -128, -128, -128, -128, -128, -128, -128, -128, -128, -128, -128, -128, -128, -128, -128, -128, -128, -128, -128, -128, -128, -128, -128, -128, -128, -128, -128, -128, -128, -128, -128, -128, -128, -128, -128, -128, -128, -128, -128, -128, -128, -128, -128, -128, -128, -128, -128, -128, -128, -128, -128, -128, -128, -128, -128, -128, -128, -128, -128, -128, -128, -128, -128, -128, -128, -128, -128, -128, -128, -128, -128, -128, -128, -128, -128, -128]\n",
            "3072\n",
            "[[[-128 -128 -128]\n",
            "  [-128 -128 -128]\n",
            "  [-128 -128 -128]\n",
            "  ...\n",
            "  [-128 -128 -128]\n",
            "  [-128 -128 -128]\n",
            "  [-128 -128 -128]]\n",
            "\n",
            " [[-128 -128 -128]\n",
            "  [-128 -128 -128]\n",
            "  [-128 -128 -128]\n",
            "  ...\n",
            "  [-128 -128 -128]\n",
            "  [-128 -128 -128]\n",
            "  [-128 -128 -128]]\n",
            "\n",
            " [[-128 -128 -128]\n",
            "  [-128 -128 -128]\n",
            "  [-128 -128 -128]\n",
            "  ...\n",
            "  [-128 -128 -128]\n",
            "  [-128 -128 -128]\n",
            "  [-128 -128 -128]]\n",
            "\n",
            " ...\n",
            "\n",
            " [[-128 -128 -128]\n",
            "  [-128 -128 -128]\n",
            "  [-128 -128 -128]\n",
            "  ...\n",
            "  [-128 -128 -128]\n",
            "  [-128 -128 -128]\n",
            "  [-128 -128 -128]]\n",
            "\n",
            " [[-128 -128 -128]\n",
            "  [-128 -128 -128]\n",
            "  [-128 -128 -128]\n",
            "  ...\n",
            "  [-128 -128 -128]\n",
            "  [-128 -128 -128]\n",
            "  [-128 -128 -128]]\n",
            "\n",
            " [[-128 -128 -128]\n",
            "  [-128 -128 -128]\n",
            "  [-128 -128 -128]\n",
            "  ...\n",
            "  [-128 -128 -128]\n",
            "  [-128 -128 -128]\n",
            "  [-128 -128 -128]]]\n"
          ]
        }
      ]
    },
    {
      "cell_type": "code",
      "source": [
        "class_names = ['0', '1', '2', '3', '4', '5', '6', '7', '8', '9', 'A', 'B', 'C', 'D', 'E', 'F', 'G', 'H', 'I', 'J', 'K', 'L', 'M', 'N', 'O', 'P', 'Q', 'R', 'S', 'T', 'U', 'V', 'W', 'X', 'Y', 'Z']\n",
        "num_classes = len(class_names)\n",
        "print(num_classes)"
      ],
      "metadata": {
        "colab": {
          "base_uri": "https://localhost:8080/"
        },
        "id": "wDX72rJovhfX",
        "outputId": "d0b0e1a8-d6b7-4f97-d7c8-8848ae9e415f"
      },
      "execution_count": 216,
      "outputs": [
        {
          "output_type": "stream",
          "name": "stdout",
          "text": [
            "36\n"
          ]
        }
      ]
    },
    {
      "cell_type": "code",
      "source": [
        "for curr in train_ds:\n",
        "  print(curr)\n",
        "  break"
      ],
      "metadata": {
        "colab": {
          "base_uri": "https://localhost:8080/"
        },
        "id": "qqZWLbJfRhTU",
        "outputId": "a84eaa95-f8ef-41c2-8af0-c3f3c45c56d2"
      },
      "execution_count": 21,
      "outputs": [
        {
          "output_type": "stream",
          "name": "stdout",
          "text": [
            "(<tf.Tensor: shape=(2, 32, 32, 3), dtype=int32, numpy=\n",
            "array([[[[-128, -128, -128],\n",
            "         [-128, -128, -128],\n",
            "         [-128, -128, -128],\n",
            "         ...,\n",
            "         [-128, -128, -128],\n",
            "         [-128, -128, -128],\n",
            "         [-128, -128, -128]],\n",
            "\n",
            "        [[-128, -128, -128],\n",
            "         [-128, -128, -128],\n",
            "         [-128, -128, -128],\n",
            "         ...,\n",
            "         [-128, -128, -128],\n",
            "         [-128, -128, -128],\n",
            "         [-128, -128, -128]],\n",
            "\n",
            "        [[-128, -128, -128],\n",
            "         [-128, -128, -128],\n",
            "         [-128, -128, -128],\n",
            "         ...,\n",
            "         [-128, -128, -128],\n",
            "         [-128, -128, -128],\n",
            "         [-128, -128, -128]],\n",
            "\n",
            "        ...,\n",
            "\n",
            "        [[-128, -128, -128],\n",
            "         [-128, -128, -128],\n",
            "         [-128, -128, -128],\n",
            "         ...,\n",
            "         [-128, -128, -128],\n",
            "         [-128, -128, -128],\n",
            "         [-128, -128, -128]],\n",
            "\n",
            "        [[-128, -128, -128],\n",
            "         [-128, -128, -128],\n",
            "         [-128, -128, -128],\n",
            "         ...,\n",
            "         [-128, -128, -128],\n",
            "         [-128, -128, -128],\n",
            "         [-128, -128, -128]],\n",
            "\n",
            "        [[-128, -128, -128],\n",
            "         [-128, -128, -128],\n",
            "         [-128, -128, -128],\n",
            "         ...,\n",
            "         [-128, -128, -128],\n",
            "         [-128, -128, -128],\n",
            "         [-128, -128, -128]]],\n",
            "\n",
            "\n",
            "       [[[-128, -128, -128],\n",
            "         [-128, -128, -128],\n",
            "         [-128, -128, -128],\n",
            "         ...,\n",
            "         [-128, -128, -128],\n",
            "         [-128, -128, -128],\n",
            "         [-128, -128, -128]],\n",
            "\n",
            "        [[-128, -128, -128],\n",
            "         [-128, -128, -128],\n",
            "         [-128, -128, -128],\n",
            "         ...,\n",
            "         [-128, -128, -128],\n",
            "         [-128, -128, -128],\n",
            "         [-128, -128, -128]],\n",
            "\n",
            "        [[-128, -128, -128],\n",
            "         [-128, -128, -128],\n",
            "         [-128, -128, -128],\n",
            "         ...,\n",
            "         [-128, -128, -128],\n",
            "         [-128, -128, -128],\n",
            "         [-128, -128, -128]],\n",
            "\n",
            "        ...,\n",
            "\n",
            "        [[-128, -128, -128],\n",
            "         [-128, -128, -128],\n",
            "         [-128, -128, -128],\n",
            "         ...,\n",
            "         [-128, -128, -128],\n",
            "         [-128, -128, -128],\n",
            "         [-128, -128, -128]],\n",
            "\n",
            "        [[-128, -128, -128],\n",
            "         [-128, -128, -128],\n",
            "         [-128, -128, -128],\n",
            "         ...,\n",
            "         [-128, -128, -128],\n",
            "         [-128, -128, -128],\n",
            "         [-128, -128, -128]],\n",
            "\n",
            "        [[-128, -128, -128],\n",
            "         [-128, -128, -128],\n",
            "         [-128, -128, -128],\n",
            "         ...,\n",
            "         [-128, -128, -128],\n",
            "         [-128, -128, -128],\n",
            "         [-128, -128, -128]]]], dtype=int32)>, <tf.Tensor: shape=(2,), dtype=int32, numpy=array([81, 75], dtype=int32)>)\n"
          ]
        }
      ]
    }
  ]
}