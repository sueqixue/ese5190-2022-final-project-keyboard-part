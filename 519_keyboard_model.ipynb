{
  "nbformat": 4,
  "nbformat_minor": 0,
  "metadata": {
    "colab": {
      "provenance": [],
      "collapsed_sections": [
        "BQbwcVyuZBIN"
      ]
    },
    "kernelspec": {
      "name": "python3",
      "display_name": "Python 3"
    },
    "language_info": {
      "name": "python"
    },
    "accelerator": "GPU",
    "gpuClass": "standard"
  },
  "cells": [
    {
      "cell_type": "markdown",
      "source": [
        "# Model\n",
        "\n",
        "Tasks:\n",
        "* (Done) Upload the dataset if not exist\n",
        "* (Done) Create the training and validation dataset by reading the data in the txt files\n",
        "* (Done) Resize the flattened data to 3D array\n",
        "* (Done) Randomly shuffle data and labels from different files in the same order\n",
        "* (Done) Batch the data then the shape of the data is (2, 32, 32, 3)\n",
        "* (Isuue: a little bit too large for our embedded system) Create an simple model for training\n",
        "* (Issue: now data type is float32 for training, but our system require tfliteint8, do not know how to solve this yet) Normalize the data to better fit the model\n",
        "* (Issue: loss is nan, low acc) Training the network"
      ],
      "metadata": {
        "id": "Njux9Jr-Y7ru"
      }
    },
    {
      "cell_type": "code",
      "source": [
        "import matplotlib.pyplot as plt\n",
        "import numpy as np\n",
        "import PIL\n",
        "import tensorflow as tf\n",
        "import os\n",
        "import pathlib\n",
        "import random\n",
        "\n",
        "from tensorflow import keras\n",
        "from tensorflow.keras import layers\n",
        "from tensorflow.keras.models import Sequential\n",
        "from os.path import exists\n",
        "from google.colab import files"
      ],
      "metadata": {
        "id": "Lc7Useh3ahLo"
      },
      "execution_count": 116,
      "outputs": []
    },
    {
      "cell_type": "code",
      "source": [
        "BATCH_SIZE = 8\n",
        "INPUT_HEIGHT = 32\n",
        "INPUT_WIDTH = 32\n",
        "INPUT_CHANNEL= 3\n",
        "NUM_CLASSES = 36"
      ],
      "metadata": {
        "id": "ljmiUtTZdmRG"
      },
      "execution_count": 117,
      "outputs": []
    },
    {
      "cell_type": "code",
      "source": [
        "# Upload the dataset if not exist\n",
        "if not os.path.exists('./keyboard_dataset.tar.gz'):\n",
        "    uploaded = files.upload()\n",
        "    # Unzip the dataset\n",
        "    !tar -xvf keyboard_dataset.tar.gz"
      ],
      "metadata": {
        "id": "uzERjAeoEoSK"
      },
      "execution_count": 118,
      "outputs": []
    },
    {
      "cell_type": "code",
      "source": [
        "train_dir = './Users/xue_q/Downloads/keyboard_dataset/train'\n",
        "train_dir = pathlib.Path(train_dir)\n",
        "val_dir = './Users/xue_q/Downloads/keyboard_dataset/test'\n",
        "val_dir = pathlib.Path(val_dir)\n",
        "\n",
        "train_input_count = len(list(train_dir.glob('*/*.txt')))\n",
        "val_input_count = len(list(val_dir.glob('*/*.txt')))\n",
        "print(f'{train_input_count}, {val_input_count}')"
      ],
      "metadata": {
        "id": "twwNfqZbajPt",
        "colab": {
          "base_uri": "https://localhost:8080/"
        },
        "outputId": "f4316a29-68d1-4975-f3cd-609efd7862f1"
      },
      "execution_count": 119,
      "outputs": [
        {
          "output_type": "stream",
          "name": "stdout",
          "text": [
            "144, 36\n"
          ]
        }
      ]
    },
    {
      "cell_type": "code",
      "source": [
        "class_names = np.array([item.name for item in train_dir.glob('*')])\n",
        "num_classes = len(class_names)\n",
        "if num_classes != NUM_CLASSES:\n",
        "  print(\"Warning: Wrong classes number!\")\n",
        "else:\n",
        "  print(\"Good!\")\n",
        "  \n",
        "print(class_names)\n",
        "print(num_classes)"
      ],
      "metadata": {
        "colab": {
          "base_uri": "https://localhost:8080/"
        },
        "id": "BSJreMoqCfdT",
        "outputId": "d3c535e7-b610-4d67-ea30-89291e0aebc8"
      },
      "execution_count": 120,
      "outputs": [
        {
          "output_type": "stream",
          "name": "stdout",
          "text": [
            "Good!\n",
            "['D' 'Q' '5' '0' 'W' '2' 'S' 'A' 'E' 'L' '1' 'V' 'Y' '6' 'X' 'K' '4' 'H'\n",
            " 'T' 'C' '3' 'U' 'M' 'B' 'P' '8' 'F' 'J' 'R' '9' 'G' 'I' '7' 'Z' 'O' 'N']\n",
            "36\n"
          ]
        }
      ]
    },
    {
      "cell_type": "code",
      "source": [
        "def resize_file_data(data):\n",
        "  data_flattened = data.split(', ')\n",
        "  for i in range(0, len(data_flattened)):\n",
        "    data_flattened[i] = int(data_flattened[i])\n",
        "  # countOfData = len(data_flattened)\n",
        "  # print(countOfData)\n",
        "  data = np.reshape(data_flattened, (INPUT_HEIGHT, INPUT_WIDTH, INPUT_CHANNEL))\n",
        "  # print(data)\n",
        "  return data"
      ],
      "metadata": {
        "id": "xTEwt_jyS5iN"
      },
      "execution_count": 121,
      "outputs": []
    },
    {
      "cell_type": "code",
      "source": [
        "def file_dataset_from_directory(data_path, data_type):\n",
        "  # Get train, valid and test data from files\n",
        "  data = []\n",
        "  label = []\n",
        "  my_dataset_data = []\n",
        "  my_dataset_label = []\n",
        "\n",
        "  # Read the txt files and load the data\n",
        "  for name in class_names:\n",
        "    # print(name)\n",
        "    data_dir = data_path / pathlib.Path(name)\n",
        "    for filename in os.listdir(data_dir):\n",
        "      file_dir = os.path.join(data_dir, filename)\n",
        "      # checking if it is a file\n",
        "      if os.path.isfile(file_dir):\n",
        "          # print(file_dir)\n",
        "          with open(file_dir, \"r\") as f:\n",
        "              content = f.read()\n",
        "              # print(file_dir)\n",
        "              content = resize_file_data(content)\n",
        "              data.append(content)\n",
        "              # data and label type should be the same\n",
        "              label.append(int(ord(name)) - 55)\n",
        "              # print(data)\n",
        "\n",
        "  # Shuffle the data and label in the same order\n",
        "  idx = np.random.permutation(len(data))\n",
        "  data = np.array(data)\n",
        "  label = np.array(label)\n",
        "  data_shuffled, label_shuffled = data[idx], label[idx]\n",
        "  length = len(label_shuffled)\n",
        "  # print(label)\n",
        "  # print(label_shuffled)\n",
        "\n",
        "  # Batch the data by BATCH_SIZE to format 4D tensor as input data\n",
        "  dataset_len = int(length / BATCH_SIZE)\n",
        "  # print(f'dataset_len = {dataset_len}')\n",
        "  for count in range(dataset_len):\n",
        "    this_data_batch = [None] * BATCH_SIZE\n",
        "    this_label_batch = [None] * BATCH_SIZE\n",
        "    for data_num in range(BATCH_SIZE):\n",
        "      # print(f\"data_num = {data_num}\")\n",
        "      data_index = count * BATCH_SIZE + data_num\n",
        "      # print(f'data_index = {data_index}')\n",
        "      this_data_batch[data_num] = data_shuffled[data_index] / 128\n",
        "      # this_data_batch[data_num] = this_data_batch[data_num].astype(int)\n",
        "      this_label_batch[data_num] = label_shuffled[data_index]\n",
        "\n",
        "    this_data_batch = tf.convert_to_tensor(this_data_batch, dtype=tf.float32)\n",
        "    this_data_batch = tf.reshape(this_data_batch, [BATCH_SIZE, INPUT_HEIGHT, INPUT_WIDTH, INPUT_CHANNEL])\n",
        "    my_dataset_data.append(this_data_batch)\n",
        "\n",
        "    this_label_batch = tf.convert_to_tensor(this_label_batch, dtype=tf.int8)\n",
        "    this_label_batch = tf.reshape(this_label_batch, [BATCH_SIZE])\n",
        "    my_dataset_label.append(this_label_batch)\n",
        "\n",
        "  print(data_type + \"_total_data_length: \" + str(length)) \n",
        "  return my_dataset_data, my_dataset_label, length"
      ],
      "metadata": {
        "id": "Qe5Av2ZQDnRZ"
      },
      "execution_count": 141,
      "outputs": []
    },
    {
      "cell_type": "code",
      "source": [
        "# Define a simple sequential model\n",
        "def create_model():\n",
        "  model = tf.keras.Sequential([\n",
        "    layers.Conv2D(8, 3, padding='same', activation='relu', input_shape=(INPUT_HEIGHT, INPUT_WIDTH, INPUT_CHANNEL)),\n",
        "    layers.MaxPooling2D((2, 2)),\n",
        "    layers.Dropout(0.5),\n",
        "    layers.Conv2D(16, 3, padding='same', activation='relu'),\n",
        "    layers.MaxPooling2D((2, 2)),\n",
        "    layers.Dropout(0.5),\n",
        "    layers.Flatten(),\n",
        "    layers.Dense(128, activation='relu'),\n",
        "    layers.Dropout(0.5),\n",
        "    layers.Dense(num_classes, activation=\"softmax\")\n",
        "  ])\n",
        "\n",
        "  model.compile(optimizer='adam',\n",
        "                loss='sparse_categorical_crossentropy',\n",
        "                metrics=['accuracy'])\n",
        "\n",
        "  return model"
      ],
      "metadata": {
        "id": "WvbYx5v-fAcl"
      },
      "execution_count": 151,
      "outputs": []
    },
    {
      "cell_type": "code",
      "source": [
        "# Load the train and validation dataset\n",
        "train_data, train_labels, train_len = file_dataset_from_directory(train_dir, \"train\")\n",
        "val_data, val_labels, val_len = file_dataset_from_directory(val_dir, \"validation\")"
      ],
      "metadata": {
        "id": "gDfCSTSNQIsT",
        "colab": {
          "base_uri": "https://localhost:8080/"
        },
        "outputId": "27f6da50-e11c-48fc-9e51-57e4a80bd673"
      },
      "execution_count": 144,
      "outputs": [
        {
          "output_type": "stream",
          "name": "stdout",
          "text": [
            "train_total_data_length: 144\n",
            "validation_total_data_length: 36\n"
          ]
        }
      ]
    },
    {
      "cell_type": "code",
      "source": [
        "train_ds = tf.data.Dataset.from_tensor_slices((train_data, train_labels))\n",
        "val_ds = tf.data.Dataset.from_tensor_slices((val_data, val_labels))"
      ],
      "metadata": {
        "id": "sI3ImJQCX4jU"
      },
      "execution_count": 145,
      "outputs": []
    },
    {
      "cell_type": "code",
      "source": [
        "# Create a basic model instance\n",
        "model = create_model()\n",
        "model.summary()"
      ],
      "metadata": {
        "id": "TETpLGpDZbE0",
        "colab": {
          "base_uri": "https://localhost:8080/"
        },
        "outputId": "35df6c3b-9d21-4777-f433-e670a3d78b43"
      },
      "execution_count": 152,
      "outputs": [
        {
          "output_type": "stream",
          "name": "stdout",
          "text": [
            "Model: \"sequential_22\"\n",
            "_________________________________________________________________\n",
            " Layer (type)                Output Shape              Param #   \n",
            "=================================================================\n",
            " conv2d_49 (Conv2D)          (None, 32, 32, 8)         224       \n",
            "                                                                 \n",
            " max_pooling2d_46 (MaxPoolin  (None, 16, 16, 8)        0         \n",
            " g2D)                                                            \n",
            "                                                                 \n",
            " dropout_66 (Dropout)        (None, 16, 16, 8)         0         \n",
            "                                                                 \n",
            " conv2d_50 (Conv2D)          (None, 16, 16, 16)        1168      \n",
            "                                                                 \n",
            " max_pooling2d_47 (MaxPoolin  (None, 8, 8, 16)         0         \n",
            " g2D)                                                            \n",
            "                                                                 \n",
            " dropout_67 (Dropout)        (None, 8, 8, 16)          0         \n",
            "                                                                 \n",
            " flatten_22 (Flatten)        (None, 1024)              0         \n",
            "                                                                 \n",
            " dense_45 (Dense)            (None, 128)               131200    \n",
            "                                                                 \n",
            " dropout_68 (Dropout)        (None, 128)               0         \n",
            "                                                                 \n",
            " dense_46 (Dense)            (None, 36)                4644      \n",
            "                                                                 \n",
            "=================================================================\n",
            "Total params: 137,236\n",
            "Trainable params: 137,236\n",
            "Non-trainable params: 0\n",
            "_________________________________________________________________\n"
          ]
        }
      ]
    },
    {
      "cell_type": "code",
      "source": [
        "epochs = 10\n",
        "# fit model\n",
        "his = model.fit(\n",
        "  train_ds,\n",
        "  validation_data = val_ds,\n",
        "  epochs = epochs\n",
        ")"
      ],
      "metadata": {
        "id": "6N-cyFgeeeyS",
        "colab": {
          "base_uri": "https://localhost:8080/"
        },
        "outputId": "7a7c24ee-510e-4cb8-818b-0796277c03d7"
      },
      "execution_count": 153,
      "outputs": [
        {
          "output_type": "stream",
          "name": "stdout",
          "text": [
            "Epoch 1/10\n",
            "18/18 [==============================] - 1s 9ms/step - loss: nan - accuracy: 0.0347 - val_loss: nan - val_accuracy: 0.0312\n",
            "Epoch 2/10\n",
            "18/18 [==============================] - 0s 3ms/step - loss: nan - accuracy: 0.0278 - val_loss: nan - val_accuracy: 0.0312\n",
            "Epoch 3/10\n",
            "18/18 [==============================] - 0s 3ms/step - loss: nan - accuracy: 0.0278 - val_loss: nan - val_accuracy: 0.0312\n",
            "Epoch 4/10\n",
            "18/18 [==============================] - 0s 3ms/step - loss: nan - accuracy: 0.0278 - val_loss: nan - val_accuracy: 0.0312\n",
            "Epoch 5/10\n",
            "18/18 [==============================] - 0s 4ms/step - loss: nan - accuracy: 0.0278 - val_loss: nan - val_accuracy: 0.0312\n",
            "Epoch 6/10\n",
            "18/18 [==============================] - 0s 3ms/step - loss: nan - accuracy: 0.0278 - val_loss: nan - val_accuracy: 0.0312\n",
            "Epoch 7/10\n",
            "18/18 [==============================] - 0s 4ms/step - loss: nan - accuracy: 0.0278 - val_loss: nan - val_accuracy: 0.0312\n",
            "Epoch 8/10\n",
            "18/18 [==============================] - 0s 3ms/step - loss: nan - accuracy: 0.0278 - val_loss: nan - val_accuracy: 0.0312\n",
            "Epoch 9/10\n",
            "18/18 [==============================] - 0s 4ms/step - loss: nan - accuracy: 0.0278 - val_loss: nan - val_accuracy: 0.0312\n",
            "Epoch 10/10\n",
            "18/18 [==============================] - 0s 4ms/step - loss: nan - accuracy: 0.0278 - val_loss: nan - val_accuracy: 0.0312\n"
          ]
        }
      ]
    },
    {
      "cell_type": "code",
      "source": [
        "plt.plot(his.history['accuracy'], label='acc', color='red')\n",
        "plt.plot(his.history['val_accuracy'], label='val_acc', color='green')\n",
        "plt.legend()"
      ],
      "metadata": {
        "colab": {
          "base_uri": "https://localhost:8080/",
          "height": 284
        },
        "id": "CUYbrwiI80qa",
        "outputId": "4d20d9d1-6908-4302-ad1b-aa8d935bc22c"
      },
      "execution_count": 154,
      "outputs": [
        {
          "output_type": "execute_result",
          "data": {
            "text/plain": [
              "<matplotlib.legend.Legend at 0x7f3a9c38b040>"
            ]
          },
          "metadata": {},
          "execution_count": 154
        },
        {
          "output_type": "display_data",
          "data": {
            "text/plain": [
              "<Figure size 432x288 with 1 Axes>"
            ],
            "image/png": "[encoded data removed]"
          },
          "metadata": {
            "needs_background": "light"
          }
        }
      ]
    },
    {
      "cell_type": "code",
      "source": [
        "# Save the entire model as a SavedModel.\n",
        "model.save('weight.h5')"
      ],
      "metadata": {
        "id": "bZbojaSpeCTq"
      },
      "execution_count": 32,
      "outputs": []
    },
    {
      "cell_type": "code",
      "source": [
        "# Convert the model.\n",
        "converter = tf.lite.TFLiteConverter.from_keras_model(model)\n",
        "tflite_model = converter.convert()\n",
        "\n",
        "# Save the model.\n",
        "with open('model.tflite', 'wb') as f:\n",
        "  f.write(tflite_model)"
      ],
      "metadata": {
        "colab": {
          "base_uri": "https://localhost:8080/"
        },
        "id": "sgCHYUJ3exxN",
        "outputId": "9b0adad9-14f6-468f-e3b8-dba435cd5447"
      },
      "execution_count": 33,
      "outputs": [
        {
          "output_type": "stream",
          "name": "stderr",
          "text": [
            "WARNING:absl:Found untraced functions such as _jit_compiled_convolution_op, _jit_compiled_convolution_op while saving (showing 2 of 2). These functions will not be directly callable after loading.\n"
          ]
        }
      ]
    },
    {
      "cell_type": "code",
      "source": [
        "!xxd -i model.tflite > model_data.cc"
      ],
      "metadata": {
        "id": "xZ6yxqh6fZnR"
      },
      "execution_count": 34,
      "outputs": []
    },
    {
      "cell_type": "markdown",
      "source": [
        "# Utilities"
      ],
      "metadata": {
        "id": "BQbwcVyuZBIN"
      }
    },
    {
      "cell_type": "code",
      "source": [
        "temp = '-128, -128, -128, -128, -128, -128, -128, -128, -128, -128, -128, -128, -128, -128, -128, -128, -128, -128, -128, -128, -128, -128, -128, -128, -128, -128, -128, -128, -128, -128, -128, -128, -128, -128, -128, -128, -128, -128, -128, -128, -128, -128, -128, -128, -128, -128, -128, -128, -128, -128, -128, -128, -128, -128, -128, -128, -128, -128, -128, -128, -128, -128, -128, -128, -128, -128, -128, -128, -128, -128, -128, -128, -128, -128, -128, -128, -128, -128, -128, -128, -128, -128, -128, -128, -128, -128, -128, -128, -128, -128, -128, -128, -128, -128, -128, -128, -128, -128, -128, -128, -128, -128, -128, -128, -128, -128, -128, -128, -128, -128, -128, -128, -128, -128, -128, -128, -128, -128, -128, -128, -128, -128, -128, -128, -128, -128, -128, -128, -128, -128, -128, -128, -128, -128, -128, -128, -128, -128, -128, -128, -128, -128, -128, -128, -128, -128, -128, -128, -128, -128, -128, -128, -128, -128, -128, -128, -128, -128, -128, -128, -128, -128, -128, -128, -128, -128, -128, -128, -128, -128, -128, -128, -128, -128, -128, -128, -128, -128, -128, -128, -128, -128, -128, -128, -128, -128, -128, -128, -128, -128, -128, -128, -128, -128, -128, -128, -128, -128, -128, -128, -128, -128, -128, -128, -128, -128, -128, -128, -128, -128, -128, -128, -128, -128, -128, -128, -128, -128, -128, -128, -128, -128, -128, -128, -128, -128, -128, -128, -128, -128, -128, -128, -128, -128, -128, -128, -128, -128, -128, -128, -128, -128, -128, -128, -128, -128, -128, -128, -128, -128, -128, -128, -128, -128, -128, -128, -128, -128, -128, -128, -128, -128, -128, -128, -128, -128, -128, -128, -128, -128, -128, -128, -128, -128, -128, -128, -128, -128, -128, -128, -128, -128, -128, -128, -128, -128, -128, -128, -128, -128, -128, -128, -128, -128, -128, -128, -128, -128, -128, -128, -128, -128, -128, -128, -128, -128, -128, -128, -128, -128, -128, -128, -128, -128, -128, -128, -128, -128, -128, -128, -128, -128, -128, -128, -128, -128, -128, -128, -128, -128, -128, -128, -128, -128, -128, -128, -128, -128, -128, -128, -128, -128, -128, -128, -128, -128, -128, -128, -128, -128, -128, -128, -128, -128, -128, -128, -128, -128, -128, -128, -128, -128, -128, -128, -128, -128, -128, -128, -128, -128, -128, -128, -128, -128, -128, -128, -128, -128, -128, -128, -128, -128, -128, -128, -128, -128, -128, -128, -128, -128, -128, -128, -128, -128, -128, -128, -128, -128, -128, -128, -128, -128, -128, -128, -128, -128, -128, -128, -128, -128, -128, -128, -128, -128, -128, -128, -128, -128, -128, -128, -128, -128, -128, -128, -128, -128, -128, -128, -128, -128, -128, -128, -128, -128, -128, -128, -128, -128, -128, -128, -128, -128, -128, -128, -128, -128, -128, -128, -128, -128, -128, -128, -128, -128, -128, -128, -128, -128, -128, -128, -128, -128, -128, -128, -128, -128, -128, -128, -128, -128, -128, -128, -128, -128, -128, -128, -128, -128, -128, -128, -128, -128, -128, -128, -128, -128, -128, -128, -128, -128, -128, -128, -128, -128, -128, -128, -128, -128, -128, -128, -128, -128, -128, -128, -128, -128, -128, -128, -128, -128, -128, -128, -128, -128, -128, -128, -128, -128, -128, -128, -128, -128, -128, -128, -128, -128, -128, -128, -128, -128, -128, -128, -128, -128, -128, -128, -128, -128, -128, -128, -128, -128, -128, -128, -128, -128, -128, -128, -128, -128, -128, -128, -128, -128, -128, -128, -128, -128, -128, -128, -128, -128, -128, -128, -128, -128, -128, -128, -128, -128, -128, -128, -128, -128, -128, -128, -128, -128, -128, -128, -128, -128, -128, -128, -128, -128, -128, -128, -128, -128, -128, -128, -128, -128, -128, -128, -128, -128, -128, -128, -128, -128, -128, -128, -128, -128, -128, -128, -128, -128, -128, -128, -128, -128, -128, -128, -128, -128, -128, -128, -128, -128, -128, -128, -128, -128, -128, -128, -128, -128, -128, -128, -128, -128, -128, -128, -128, -128, -128, -128, -128, -128, -128, -128, -128, -128, -128, -128, -128, -128, -128, -128, -128, -128, -128, -128, -128, -128, -128, -128, -128, -128, -128, -128, -128, -128, -128, -128, -128, -128, -128, -128, -128, -128, -128, -128, -128, -128, -128, -128, -128, -128, -128, -128, -128, -128, -128, -128, -128, -128, -128, -128, -128, -128, -128, -128, -128, -128, -128, -128, -128, -128, -128, -128, -128, -128, -128, -128, -128, -128, -128, -128, -128, -128, -128, -128, -128, -128, -128, -128, -128, -128, -128, -128, -128, -128, -128, -128, -128, -128, -128, -128, -128, -128, -128, -128, -128, -128, -128, -128, -128, -128, -128, -128, -128, -128, -128, -128, -128, -128, -128, -128, -128, -128, -128, -128, -128, -128, -128, -128, -128, -128, -128, -128, -128, -128, -128, -128, -128, -128, -128, -128, -128, -128, -128, -128, -128, -128, -128, -128, -128, -128, -128, -128, -128, -128, -128, -128, -128, -128, -128, -128, -128, -128, -128, -128, -128, -128, -128, -128, -128, -128, -128, -128, -128, -128, -128, -128, -128, -128, -128, -128, -128, -128, -128, -128, -128, -128, -128, -128, -128, -128, -128, -128, -128, -128, -128, -128, -128, -128, -128, -128, -128, -128, -128, -128, -128, -128, -128, -128, -128, -128, -128, -128, -128, -128, -128, -128, -128, -128, -128, -128, -128, -128, -128, -128, -128, -128, -128, -128, -128, -128, -128, -128, -128, -128, -128, -128, -128, -128, -128, -128, -128, -128, -128, -128, -128, -128, -128, -128, -128, -128, -128, -128, -128, -128, -128, -128, -128, -128, -128, -128, -128, -128, -128, -128, -128, -128, -128, -128, -128, -128, -128, -128, -128, -128, -128, -128, -128, -128, -128, -128, -128, -128, -128, -128, -128, -128, -128, -128, -128, -128, -128, -128, -128, -128, -128, -128, -128, -128, -128, -128, -128, -128, -128, -128, -128, -128, -128, -128, -128, -128, -128, -128, -128, -128, -128, -128, -128, -128, -128, -128, -128, -128, -128, -128, -128, -128, -128, -128, -128, -128, -128, -128, -128, -128, -128, -128, -128, -128, -128, -128, -128, -128, -128, -128, -128, -128, -128, -128, -128, -128, -128, -128, -128, -128, -128, -128, -128, -128, -128, -128, -128, -128, -128, -128, -128, -128, -128, -128, -128, -128, -128, -128, -128, -128, -128, -128, -128, -128, -128, -128, -128, -128, -128, -128, -128, -128, -128, -128, -128, -128, -128, -128, -128, -128, -128, -128, -128, -128, -128, -128, -128, -128, -128, -128, -128, -128, -128, -128, -128, -128, -128, -128, -128, -128, -128, -128, -128, -128, -128, -128, -128, -128, -128, -128, -128, -128, -128, -128, -128, -128, -128, -128, -128, -128, -128, -128, -128, -128, -128, -128, -128, -128, -128, -128, -128, -128, -128, -128, -128, -128, -128, -128, -128, -128, -128, -128, -128, -128, -128, -128, -128, -128, -128, -128, -128, -128, -128, -128, -128, -128, -128, -128, -128, -128, -128, -128, -128, -128, -128, -128, -128, -128, -128, -128, -128, -128, -128, -128, -128, -128, -128, -128, -128, -128, -128, -128, -128, -128, -128, -128, -128, -128, -128, -128, -128, -128, -128, -128, -128, -128, -128, -128, -128, -128, -128, -128, -128, -128, -128, -128, -128, -128, -128, -128, -128, -128, -128, -128, -128, -128, -128, -128, -128, -128, -128, -128, -128, -128, -128, -128, -128, -128, -128, -128, -128, -128, -128, -128, -128, -128, -128, -128, -128, -128, -128, -128, -128, -128, -128, -128, -128, -128, -128, -128, -128, -128, -128, -128, -128, -128, -128, -128, -128, -128, -128, -128, -128, -128, -128, -128, -128, -128, -128, -128, -128, -128, -128, -128, -128, -128, -128, -128, -128, -128, -128, -128, -128, -128, -128, -128, -128, -128, -128, -128, -128, -128, -128, -128, -128, -128, -128, -128, -128, -128, -128, -128, -128, -128, -128, -128, -128, -128, -128, -128, -128, -128, -128, -128, -128, -128, -128, -128, -128, -128, -128, -128, -128, -128, -128, -128, -128, -128, -128, -128, -128, -128, -128, -128, -128, -128, -128, -128, -128, -128, -128, -128, -128, -128, -128, -128, -128, -128, -128, -128, -128, -128, -128, -128, -128, -128, -128, -128, -128, -128, 11, -12, -128, -128, -128, -128, -128, -128, -128, -128, -128, -128, -128, -128, -128, -128, -128, -128, -128, -128, -128, -128, -128, -128, -128, -128, -128, -128, -128, -128, -128, -128, -128, -128, -128, -128, -128, -128, -128, -128, -128, -128, -128, -128, -128, -128, -128, -128, -128, -128, -128, -128, -128, -128, -128, -128, -128, -128, -128, -128, -128, -128, -128, -128, -128, -128, -128, -128, -128, -128, -128, -128, -128, -128, -128, -128, -128, -40, 39, -128, -34, 33, -128, -28, 27, -128, -22, 21, -128, -128, -128, -128, -128, 53, -54, -128, -48, 47, -128, -78, 77, -128, -128, -128, -128, -128, -128, -128, -128, -128, -128, -128, -128, -128, -128, -128, -128, -128, -128, -128, -128, -128, -128, -128, -128, -128, -128, -128, -128, -128, -128, -128, -128, -128, -128, -128, -128, -128, -128, -128, -128, -128, -128, -128, -128, -128, -128, -128, -128, -128, -128, -128, -128, -128, -128, -128, -128, -128, -128, -128, -128, -128, -128, -128, -128, -128, -128, -128, -128, -128, -52, 51, -128, -128, -128, -128, -128, -128, -128, -128, -128, -128, -128, -128, -128, -128, 65, -66, -128, -128, -128, -128, -128, -128, -128, -128, -128, -128, -128, -128, -128, -128, -128, -128, -128, -128, -128, -128, -128, -128, -128, -128, -128, -128, -128, -128, -128, -128, -128, -128, -128, -128, -128, -128, -128, -128, -128, -128, -128, -128, -128, -128, -128, -128, -128, -128, -128, -128, -128, -128, -128, -128, -128, -128, -128, -128, -128, -128, -128, -128, -128, -128, -128, -128, -128, -128, -128, -128, -128, -128, -128, -128, -128, -64, 63, -128, -128, -128, -128, -128, -128, -128, -128, -128, -128, -128, -128, -128, 121, -122, -128, -128, 71, -72, -128, -128, -128, -128, -128, -128, -128, -128, -128, -128, -128, -128, -128, -128, -128, -128, -128, -128, -128, -128, -128, -128, -128, -128, -128, -128, -128, -128, -128, -128, -128, -128, -128, -128, -128, -128, -128, -128, -128, -128, -128, -128, -128, -128, -128, -128, -128, -128, -128, -128, -128, -128, -128, -128, -128, -128, -128, -128, -128, -128, -128, -128, -128, -128, -128, -128, -128, -128, -128, -128, -128, -128, -70, 69, -128, -128, -128, -128, -128, -128, -128, -128, -128, -128, -128, -128, -128, -128, -128, -128, -128, 83, -84, -128, -128, -128, -128, -128, -128, -128, -128, -128, -128, -128, -128, -128, -128, -128, -128, -128, -128, -128, -128, -128, -128, -128, -128, -128, -128, -128, -128, -128, -128, -128, -128, -128, -128, -128, -128, -128, -128, -128, -128, -128, -128, -128, -128, -128, -128, -128, -128, -128, -128, -128, -128, -128, -128, -128, -128, -128, -128, -128, -128, -128, -128, -128, -128, -128, -128, -128, -128, -128, -128, -128, -128, -128, -128, -128, -76, 75, -128, -128, -128, -128, -128, -128, -128, -128, -128, -128, -128, -128, -128, -128, -128, -128, -128, -128, -128, -128, -128, -128, -128, -128, -128, -128, -128, -128, -128, -128, -128, -128, -128, -128, -128, -128, -128, -128, -128, -128, -128, -128, -128, -128, -128, -128, -128, -128, -128, -128, -128, -128, -128, -128, -128, -128, -128, -128, -128, -128, -128, -128, -128, -128, -128, -128, -128, -128, -128, -128, -128, -128, -128, -128, -128, -128, -128, -128, -128, -128, -128, -128, -128, -128, -128, -128, -128, -128, -128, -128, -128, -88, 87, -128, -82, 81, -128, -128, -128, -128, -128, -128, -128, -128, -128, -128, -128, -128, -128, -128, 89, -90, -128, -128, -128, -128, -128, -128, -128, -128, -128, -128, -128, -128, -128, -128, -128, -128, -128, -128, -128, -128, -128, -128, -128, -128, -128, -128, -128, -128, -128, -128, -128, -128, -128, -128, -128, -128, -128, -128, -128, -128, -128, -128, -128, -128, -128, -128, -128, -128, -128, -128, -128, -128, -128, -128, -128, -128, -128, -128, -128, -128, -128, -128, -128, -128, -128, -128, -128, -128, -128, -128, -128, -128, -128, -128, -128, -94, 93, -128, -128, -128, -128, -128, -128, -128, -128, -128, -128, -128, -128, -128, -128, -128, -128, -128, 95, -96, -128, -128, -128, -128, -128, -128, -128, -128, -128, -128, -128, -128, -128, -128, -128, -128, -128, -128, -128, -128, -128, -128, -128, -128, -128, -128, -128, -128, -128, -128, -128, -128, -128, -128, -128, -128, -128, -128, -128, -128, -128, -128, -128, -128, -128, -128, -128, -128, -128, -128, -128, -128, -128, -128, -128, -128, -128, -128, -128, -128, -128, -128, -128, -128, -128, -128, -128, -128, -128, -128, -128, -128, -128, -128, -128, -100, 99, -128, -128, -128, -128, -128, -128, -128, -128, -128, -128, -128, -128, -128, -128, -128, -128, -128, 101, -102, -128, -128, -128, -128, -128, -128, -128, -128, -128, -128, -128, -128, -128, -128, -128, -128, -128, -128, -128, -128, -128, -128, -128, -128, -128, -128, -128, -128, -128, -128, -128, -128, -128, -128, -128, -128, -128, -128, -128, -128, -128, -128, -128, -128, -128, -128, -128, -128, -128, -128, -128, -128, -128, -128, -128, -128, -128, -128, -128, -128, -128, -128, -128, -128, -128, -128, -128, -128, -128, -128, -128, -128, -128, -128, -128, -106, 105, -128, -128, -128, -128, -128, -128, -128, -128, -128, -128, -128, -128, -128, -128, 107, -108, -128, -128, -128, -128, -128, -128, -128, -128, -128, -128, -128, -128, -128, -128, -128, -128, -128, -128, -128, -128, -128, -128, -128, -128, -128, -128, -128, -128, -128, -128, -128, -128, -128, -128, -128, -128, -128, -128, -128, -128, -128, -128, -128, -128, -128, -128, -128, -128, -128, -128, -128, -128, -128, -128, -128, -128, -128, -128, -128, -128, -128, -128, -128, -128, -128, -128, -128, -128, -128, -128, -128, -128, -128, -128, -128, -128, -128, -128, -128, -128, -128, -112, 111, -128, -128, -128, -128, -128, -128, -128, -128, 113, -114, -128, -128, -128, -128, -128, -128, -128, -128, -128, -128, -128, -128, -128, -128, -128, -128, -128, -128, -128, -128, -128, -128, -128, -128, -128, -128, -128, -128, -128, -128, -128, -128, -128, -128, -128, -128, -128, -128, -128, -128, -128, -128, -128, -128, -128, -128, -128, -128, -128, -128, -128, -128, -128, -128, -128, -128, -128, -128, -128, -128, -128, -128, -128, -128, -128, -128, -128, -128, -128, -128, -128, -128, -128, -128, -128, -128, -128, -128, -128, -128, -128, -128, -128, -128, -118, 117, -128, -124, 123, -128, -128, -128, -128, -128, 119, -120, -128, -128, -128, -128, -128, -128, -128, -128, -128, -128, -128, -128, -128, -128, -128, -128, -128, -128, -128, -128, -128, -128, -128, -128, -128, -128, -128, -128, -128, -128, -128, -128, -128, -128, -128, -128, -128, -128, -128, -128, -128, -128, -128, -128, -128, -128, -128, -128, -128, -128, -128, -128, -128, -128, -128, -128, -128, -128, -128, -128, -128, -128, -128, -128, -128, -128, -128, -128, -128, -128, -128, -128, -128, -128, -128, -128, -128, -128, -128, -128, -128, -128, -128, -128, -128, -128, -128, -118, 117, -128, -128, 125, -126, -128, -128, -128, -128, -128, -128, -128, -128, -128, -128, -128, -128, -128, -128, -128, -128, -128, -128, -128, -128, -128, -128, -128, -128, -128, -128, -128, -128, -128, -128, -128, -128, -128, -128, -128, -128, -128, -128, -128, -128, -128, -128, -128, -128, -128, -128, -128, -128, -128, -128, -128, -128, -128, -128, -128, -128, -128, -128, -128, -128, -128, -128, -128, -128, -128, -128, -128, -128, -128, -128, -128, -128, -128, -128, -128, -128, -128, -128, -128, -128, -128, -128, -128, -128, -128, -128, -128, -128, -128, -128, -128, -128, -128, -128, -128, -128, -128, -128, -128, -128, -128, -128, -128, -128, -128, -128, -128, -128, -128, -128, -128, -128, -128, -128, -128, -128, -128, -128, -128, -128, -128, -128, -128, -128, -128, -128, -128, -128, -128, -128, -128, -128, -128, -128, -128, -128, -128, -128, -128, -128, -128, -128, -128, -128, -128, -128, -128, -128, -128, -128, -128, -128, -128, -128, -128, -128, -128, -128, -128, -128, -128, -128, -128, -128, -128, -128, -128, -128, -128, -128, -128, -128, -128, -128, -128, -128, -128, -128, -128, -128, -128, -128, -128, -128, -128, -128, -128, -128, -128, -128, -128, -128, -128, -128, -128, -128, -128, -128, -128, -128, -128, -128, -128, -128, -128, -128, -128, -128, -128, -128, -128, -128, -128, -128, -128, -128, -128, -128, -128, -128, -128, -128, -128, -128, -128, -128, -128, -128, -128, -128, -128, -128, -128, -128, -128, -128, -128, -128, -128, -128, -128, -128, -128, -128, -128, -128, -128, -128, -128, -128, -128, -128, -128, -128, -128, -128, -128, -128, -128, -128, -128, -128, -128, -128, -128, -128, -128, -128, -128, -128, -128, -128, -128, -128, -128, -128, -128, -128, -128, -128, -128, -128, -128, -128, -128, -128, -128, -128, -128, -128, -128, -128, -128, -128, -128, -128, -128, -128, -128, -128, -128, -128, -128, -128, -128, -128, -128, -128, -128, -128, -128, -128, -128, -128, -128, -128, -128, -128, -128, -128, -128, -128, -128, -128, -128, -128, -128, -128, -128, -128, -128, -128, -128, -128, -128, -128, -128, -128, -128, -128, -128, -128, -128, -128, -128, -128, -128, -128, -128, -128, -128, -128, -128, -128, -128, -128, -128, -128, -128, -128, -128, -128, -128, -128, -128, -128, -128, -128, -128, -128, -128, -128, -128, -128, -128, -128, -128, -128, -128, -128, -128, -128, -128, -128, -128, -128, -128, -128, -128, -128, -128, -128, -128, -128, -128, -128, -128, -128, -128, -128, -128, -128, -128, -128, -128, -128, -128, -128, -128, -128, -128, -128, -128, -128, -128, -128, -128, -128, -128, -128, -128, -128, -128, -128, -128, -128, -128, -128, -128, -128, -128, -128, -128, -128, -128, -128, -128, -128, -128, -128, -128, -128, -128, -128, -128, -128, -128, -128, -128, -128, -128, -128, -128, -128, -128, -128, -128, -128, -128, -128, -128, -128, -128, -128, -128, -128, -128, -128, -128, -128, -128, -128, -128, -128, -128, -128, -128, -128, -128, -128, -128, -128, -128, -128, -128, -128, -128, -128, -128, -128, -128, -128, -128, -128, -128, -128, -128, -128, -128, -128, -128, -128, -128, -128, -128, -128, -128, -128, -128, -128, -128, -128, -128, -128, -128, -128, -128, -128, -128, -128, -128, -128, -128, -128, -128, -128, -128, -128, -128, -128, -128, -128, -128, -128, -128, -128, -128, -128, -128, -128, -128, -128, -128, -128, -128, -128, -128, -128, -128, -128, -128, -128, -128, -128, -128, -128, -128, -128, -128, -128, -128, -128, -128, -128, -128, -128, -128, -128, -128, -128, -128, -128, -128, -128, -128, -128, -128, -128, -128, -128, -128, -128, -128, -128, -128, -128, -128, -128, -128, -128, -128, -128, -128, -128, -128, -128, -128, -128, -128, -128, -128, -128, -128, -128, -128, -128, -128, -128, -128, -128, -128, -128, -128, -128, -128, -128, -128, -128, -128, -128, -128, -128, -128, -128, -128, -128, -128, -128, -128, -128, -128, -128, -128'\n",
        "temp_data = temp.split(', ')\n",
        "for i in range(0, len(temp_data)):\n",
        "    temp_data[i] = int(temp_data[i])\n",
        "countOfWords = len(temp_data)\n",
        "print(temp_data)\n",
        "print(countOfWords)\n",
        "temp_data = np.resize(temp_data, (input_height, input_width, input_channel))\n",
        "print(temp_data)"
      ],
      "metadata": {
        "id": "BB8sFDMOUToZ"
      },
      "execution_count": null,
      "outputs": []
    },
    {
      "cell_type": "code",
      "source": [
        "class_names = ['0', '1', '2', '3', '4', '5', '6', '7', '8', '9', 'A', 'B', 'C', 'D', 'E', 'F', 'G', 'H', 'I', 'J', 'K', 'L', 'M', 'N', 'O', 'P', 'Q', 'R', 'S', 'T', 'U', 'V', 'W', 'X', 'Y', 'Z']\n",
        "num_classes = len(class_names)\n",
        "print(num_classes)"
      ],
      "metadata": {
        "colab": {
          "base_uri": "https://localhost:8080/"
        },
        "id": "wDX72rJovhfX",
        "outputId": "3141105c-d2d7-4b0c-eb05-e8941b9c9ea1"
      },
      "execution_count": 59,
      "outputs": [
        {
          "output_type": "stream",
          "name": "stdout",
          "text": [
            "36\n"
          ]
        }
      ]
    },
    {
      "cell_type": "code",
      "source": [
        "for curr in train_ds:\n",
        "  print(curr)\n",
        "  break"
      ],
      "metadata": {
        "colab": {
          "base_uri": "https://localhost:8080/"
        },
        "id": "qqZWLbJfRhTU",
        "outputId": "7e27d1bf-15c8-4d61-9301-d7ed64e090d9"
      },
      "execution_count": 113,
      "outputs": [
        {
          "output_type": "stream",
          "name": "stdout",
          "text": [
            "(<tf.Tensor: shape=(1, 32, 32, 3), dtype=float32, numpy=\n",
            "array([[[[-1., -1., -1.],\n",
            "         [-1., -1., -1.],\n",
            "         [-1., -1., -1.],\n",
            "         ...,\n",
            "         [-1., -1., -1.],\n",
            "         [-1., -1., -1.],\n",
            "         [-1., -1., -1.]],\n",
            "\n",
            "        [[-1., -1., -1.],\n",
            "         [-1., -1., -1.],\n",
            "         [-1., -1., -1.],\n",
            "         ...,\n",
            "         [-1., -1., -1.],\n",
            "         [-1., -1., -1.],\n",
            "         [-1., -1., -1.]],\n",
            "\n",
            "        [[-1., -1., -1.],\n",
            "         [-1., -1., -1.],\n",
            "         [-1., -1., -1.],\n",
            "         ...,\n",
            "         [-1., -1., -1.],\n",
            "         [-1., -1., -1.],\n",
            "         [-1., -1., -1.]],\n",
            "\n",
            "        ...,\n",
            "\n",
            "        [[-1., -1., -1.],\n",
            "         [-1., -1., -1.],\n",
            "         [-1., -1., -1.],\n",
            "         ...,\n",
            "         [-1., -1., -1.],\n",
            "         [-1., -1., -1.],\n",
            "         [-1., -1., -1.]],\n",
            "\n",
            "        [[-1., -1., -1.],\n",
            "         [-1., -1., -1.],\n",
            "         [-1., -1., -1.],\n",
            "         ...,\n",
            "         [-1., -1., -1.],\n",
            "         [-1., -1., -1.],\n",
            "         [-1., -1., -1.]],\n",
            "\n",
            "        [[-1., -1., -1.],\n",
            "         [-1., -1., -1.],\n",
            "         [-1., -1., -1.],\n",
            "         ...,\n",
            "         [-1., -1., -1.],\n",
            "         [-1., -1., -1.],\n",
            "         [-1., -1., -1.]]]], dtype=float32)>, <tf.Tensor: shape=(1,), dtype=int8, numpy=array([31], dtype=int8)>)\n"
          ]
        }
      ]
    },
    {
      "cell_type": "code",
      "source": [
        "def create_model():\n",
        "  model = tf.keras.Sequential([\n",
        "    layers.Conv2D(32, 3, padding='same', activation='relu', input_shape=(INPUT_HEIGHT, INPUT_WIDTH, INPUT_CHANNEL)),\n",
        "    layers.Dropout(0.2),\n",
        "    layers.Conv2D(32, 3, padding='same', activation='relu'),\n",
        "    layers.MaxPooling2D(),\n",
        "    layers.Conv2D(64, 3, padding='same', activation='relu'),\n",
        "    layers.Dropout(0.2),\n",
        "    layers.Conv2D(64, 3, padding='same', activation='relu'),\n",
        "    layers.MaxPooling2D(),\n",
        "    layers.Conv2D(128, 3, padding='same', activation='relu'),\n",
        "    layers.Dropout(0.2),\n",
        "    layers.Conv2D(128, 3, padding='same', activation='relu'),\n",
        "    layers.MaxPooling2D(),\n",
        "    layers.Flatten(),\n",
        "    layers.Dropout(0.2),\n",
        "    layers.Dense(1024, activation='relu'),\n",
        "    layers.Dropout(0.2),\n",
        "    layers.Dense(512, activation='relu'),\n",
        "    layers.Dropout(0.2),\n",
        "    layers.Dense(num_classes, activation=\"softmax\")\n",
        "  ])\n",
        "\n",
        "  model.compile(optimizer='adam',\n",
        "                loss=tf.keras.losses.SparseCategoricalCrossentropy(from_logits=True),\n",
        "                metrics=[tf.keras.metrics.SparseCategoricalAccuracy()])\n",
        "\n",
        "  return model"
      ],
      "metadata": {
        "id": "yEib2Fsz3hvf"
      },
      "execution_count": 20,
      "outputs": []
    }
  ]
}